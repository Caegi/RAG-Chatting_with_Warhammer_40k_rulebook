{
  "nbformat": 4,
  "nbformat_minor": 0,
  "metadata": {
    "colab": {
      "provenance": [],
      "collapsed_sections": [
        "w6W-_gbjqBB-",
        "o2LuomKvFC6f",
        "IQJyWLRirKUG",
        "oATSRez1GQdC",
        "t0hWBAt-Df7N"
      ],
      "gpuType": "T4",
      "toc_visible": true
    },
    "kernelspec": {
      "name": "python3",
      "display_name": "Python 3"
    },
    "language_info": {
      "name": "python"
    },
    "accelerator": "GPU",
    "widgets": {
      "application/vnd.jupyter.widget-state+json": {
        "d8f1e6ef52254ca39720db455c741d3f": {
          "model_module": "@jupyter-widgets/controls",
          "model_name": "HBoxModel",
          "model_module_version": "1.5.0",
          "state": {
            "_dom_classes": [],
            "_model_module": "@jupyter-widgets/controls",
            "_model_module_version": "1.5.0",
            "_model_name": "HBoxModel",
            "_view_count": null,
            "_view_module": "@jupyter-widgets/controls",
            "_view_module_version": "1.5.0",
            "_view_name": "HBoxView",
            "box_style": "",
            "children": [
              "IPY_MODEL_7922372e1e3b4dbfb1d282beb4aa7969",
              "IPY_MODEL_e7c3522aaac542b1b33a02287d28c901",
              "IPY_MODEL_20a245de714b44e49e6b84fd80c8990f"
            ],
            "layout": "IPY_MODEL_9bdc309519de400789254a51de20d71e"
          }
        },
        "7922372e1e3b4dbfb1d282beb4aa7969": {
          "model_module": "@jupyter-widgets/controls",
          "model_name": "HTMLModel",
          "model_module_version": "1.5.0",
          "state": {
            "_dom_classes": [],
            "_model_module": "@jupyter-widgets/controls",
            "_model_module_version": "1.5.0",
            "_model_name": "HTMLModel",
            "_view_count": null,
            "_view_module": "@jupyter-widgets/controls",
            "_view_module_version": "1.5.0",
            "_view_name": "HTMLView",
            "description": "",
            "description_tooltip": null,
            "layout": "IPY_MODEL_c0f97638dbd144f4b5f36cca1f35d593",
            "placeholder": "​",
            "style": "IPY_MODEL_31d40a849f3c4931a158b52ed7c5adc8",
            "value": "Llama-3.2-1B-Instruct-Q8_0.gguf: 100%"
          }
        },
        "e7c3522aaac542b1b33a02287d28c901": {
          "model_module": "@jupyter-widgets/controls",
          "model_name": "FloatProgressModel",
          "model_module_version": "1.5.0",
          "state": {
            "_dom_classes": [],
            "_model_module": "@jupyter-widgets/controls",
            "_model_module_version": "1.5.0",
            "_model_name": "FloatProgressModel",
            "_view_count": null,
            "_view_module": "@jupyter-widgets/controls",
            "_view_module_version": "1.5.0",
            "_view_name": "ProgressView",
            "bar_style": "success",
            "description": "",
            "description_tooltip": null,
            "layout": "IPY_MODEL_15f2728644a04c298770bd5ef3fd4d0a",
            "max": 1321083008,
            "min": 0,
            "orientation": "horizontal",
            "style": "IPY_MODEL_f203b51efbfb41f3bf7ee5821ae7721c",
            "value": 1321083008
          }
        },
        "20a245de714b44e49e6b84fd80c8990f": {
          "model_module": "@jupyter-widgets/controls",
          "model_name": "HTMLModel",
          "model_module_version": "1.5.0",
          "state": {
            "_dom_classes": [],
            "_model_module": "@jupyter-widgets/controls",
            "_model_module_version": "1.5.0",
            "_model_name": "HTMLModel",
            "_view_count": null,
            "_view_module": "@jupyter-widgets/controls",
            "_view_module_version": "1.5.0",
            "_view_name": "HTMLView",
            "description": "",
            "description_tooltip": null,
            "layout": "IPY_MODEL_ce9d7f66e90c4b2797306c4be0f3f920",
            "placeholder": "​",
            "style": "IPY_MODEL_1105607cfd3c4458bc5a218d1d751c40",
            "value": " 1.32G/1.32G [00:32&lt;00:00, 42.9MB/s]"
          }
        },
        "9bdc309519de400789254a51de20d71e": {
          "model_module": "@jupyter-widgets/base",
          "model_name": "LayoutModel",
          "model_module_version": "1.2.0",
          "state": {
            "_model_module": "@jupyter-widgets/base",
            "_model_module_version": "1.2.0",
            "_model_name": "LayoutModel",
            "_view_count": null,
            "_view_module": "@jupyter-widgets/base",
            "_view_module_version": "1.2.0",
            "_view_name": "LayoutView",
            "align_content": null,
            "align_items": null,
            "align_self": null,
            "border": null,
            "bottom": null,
            "display": null,
            "flex": null,
            "flex_flow": null,
            "grid_area": null,
            "grid_auto_columns": null,
            "grid_auto_flow": null,
            "grid_auto_rows": null,
            "grid_column": null,
            "grid_gap": null,
            "grid_row": null,
            "grid_template_areas": null,
            "grid_template_columns": null,
            "grid_template_rows": null,
            "height": null,
            "justify_content": null,
            "justify_items": null,
            "left": null,
            "margin": null,
            "max_height": null,
            "max_width": null,
            "min_height": null,
            "min_width": null,
            "object_fit": null,
            "object_position": null,
            "order": null,
            "overflow": null,
            "overflow_x": null,
            "overflow_y": null,
            "padding": null,
            "right": null,
            "top": null,
            "visibility": null,
            "width": null
          }
        },
        "c0f97638dbd144f4b5f36cca1f35d593": {
          "model_module": "@jupyter-widgets/base",
          "model_name": "LayoutModel",
          "model_module_version": "1.2.0",
          "state": {
            "_model_module": "@jupyter-widgets/base",
            "_model_module_version": "1.2.0",
            "_model_name": "LayoutModel",
            "_view_count": null,
            "_view_module": "@jupyter-widgets/base",
            "_view_module_version": "1.2.0",
            "_view_name": "LayoutView",
            "align_content": null,
            "align_items": null,
            "align_self": null,
            "border": null,
            "bottom": null,
            "display": null,
            "flex": null,
            "flex_flow": null,
            "grid_area": null,
            "grid_auto_columns": null,
            "grid_auto_flow": null,
            "grid_auto_rows": null,
            "grid_column": null,
            "grid_gap": null,
            "grid_row": null,
            "grid_template_areas": null,
            "grid_template_columns": null,
            "grid_template_rows": null,
            "height": null,
            "justify_content": null,
            "justify_items": null,
            "left": null,
            "margin": null,
            "max_height": null,
            "max_width": null,
            "min_height": null,
            "min_width": null,
            "object_fit": null,
            "object_position": null,
            "order": null,
            "overflow": null,
            "overflow_x": null,
            "overflow_y": null,
            "padding": null,
            "right": null,
            "top": null,
            "visibility": null,
            "width": null
          }
        },
        "31d40a849f3c4931a158b52ed7c5adc8": {
          "model_module": "@jupyter-widgets/controls",
          "model_name": "DescriptionStyleModel",
          "model_module_version": "1.5.0",
          "state": {
            "_model_module": "@jupyter-widgets/controls",
            "_model_module_version": "1.5.0",
            "_model_name": "DescriptionStyleModel",
            "_view_count": null,
            "_view_module": "@jupyter-widgets/base",
            "_view_module_version": "1.2.0",
            "_view_name": "StyleView",
            "description_width": ""
          }
        },
        "15f2728644a04c298770bd5ef3fd4d0a": {
          "model_module": "@jupyter-widgets/base",
          "model_name": "LayoutModel",
          "model_module_version": "1.2.0",
          "state": {
            "_model_module": "@jupyter-widgets/base",
            "_model_module_version": "1.2.0",
            "_model_name": "LayoutModel",
            "_view_count": null,
            "_view_module": "@jupyter-widgets/base",
            "_view_module_version": "1.2.0",
            "_view_name": "LayoutView",
            "align_content": null,
            "align_items": null,
            "align_self": null,
            "border": null,
            "bottom": null,
            "display": null,
            "flex": null,
            "flex_flow": null,
            "grid_area": null,
            "grid_auto_columns": null,
            "grid_auto_flow": null,
            "grid_auto_rows": null,
            "grid_column": null,
            "grid_gap": null,
            "grid_row": null,
            "grid_template_areas": null,
            "grid_template_columns": null,
            "grid_template_rows": null,
            "height": null,
            "justify_content": null,
            "justify_items": null,
            "left": null,
            "margin": null,
            "max_height": null,
            "max_width": null,
            "min_height": null,
            "min_width": null,
            "object_fit": null,
            "object_position": null,
            "order": null,
            "overflow": null,
            "overflow_x": null,
            "overflow_y": null,
            "padding": null,
            "right": null,
            "top": null,
            "visibility": null,
            "width": null
          }
        },
        "f203b51efbfb41f3bf7ee5821ae7721c": {
          "model_module": "@jupyter-widgets/controls",
          "model_name": "ProgressStyleModel",
          "model_module_version": "1.5.0",
          "state": {
            "_model_module": "@jupyter-widgets/controls",
            "_model_module_version": "1.5.0",
            "_model_name": "ProgressStyleModel",
            "_view_count": null,
            "_view_module": "@jupyter-widgets/base",
            "_view_module_version": "1.2.0",
            "_view_name": "StyleView",
            "bar_color": null,
            "description_width": ""
          }
        },
        "ce9d7f66e90c4b2797306c4be0f3f920": {
          "model_module": "@jupyter-widgets/base",
          "model_name": "LayoutModel",
          "model_module_version": "1.2.0",
          "state": {
            "_model_module": "@jupyter-widgets/base",
            "_model_module_version": "1.2.0",
            "_model_name": "LayoutModel",
            "_view_count": null,
            "_view_module": "@jupyter-widgets/base",
            "_view_module_version": "1.2.0",
            "_view_name": "LayoutView",
            "align_content": null,
            "align_items": null,
            "align_self": null,
            "border": null,
            "bottom": null,
            "display": null,
            "flex": null,
            "flex_flow": null,
            "grid_area": null,
            "grid_auto_columns": null,
            "grid_auto_flow": null,
            "grid_auto_rows": null,
            "grid_column": null,
            "grid_gap": null,
            "grid_row": null,
            "grid_template_areas": null,
            "grid_template_columns": null,
            "grid_template_rows": null,
            "height": null,
            "justify_content": null,
            "justify_items": null,
            "left": null,
            "margin": null,
            "max_height": null,
            "max_width": null,
            "min_height": null,
            "min_width": null,
            "object_fit": null,
            "object_position": null,
            "order": null,
            "overflow": null,
            "overflow_x": null,
            "overflow_y": null,
            "padding": null,
            "right": null,
            "top": null,
            "visibility": null,
            "width": null
          }
        },
        "1105607cfd3c4458bc5a218d1d751c40": {
          "model_module": "@jupyter-widgets/controls",
          "model_name": "DescriptionStyleModel",
          "model_module_version": "1.5.0",
          "state": {
            "_model_module": "@jupyter-widgets/controls",
            "_model_module_version": "1.5.0",
            "_model_name": "DescriptionStyleModel",
            "_view_count": null,
            "_view_module": "@jupyter-widgets/base",
            "_view_module_version": "1.2.0",
            "_view_name": "StyleView",
            "description_width": ""
          }
        },
        "cb13d82d65af47f49793f57eb6f24681": {
          "model_module": "@jupyter-widgets/controls",
          "model_name": "HBoxModel",
          "model_module_version": "1.5.0",
          "state": {
            "_dom_classes": [],
            "_model_module": "@jupyter-widgets/controls",
            "_model_module_version": "1.5.0",
            "_model_name": "HBoxModel",
            "_view_count": null,
            "_view_module": "@jupyter-widgets/controls",
            "_view_module_version": "1.5.0",
            "_view_name": "HBoxView",
            "box_style": "",
            "children": [
              "IPY_MODEL_452da988e6b048e19f3da4d61ebbef8e",
              "IPY_MODEL_64a2d0c39017430098ead636da039eff",
              "IPY_MODEL_f8479a3a291842e3bb10de85cc912f54"
            ],
            "layout": "IPY_MODEL_2e11ff5cab3b4dafa0337cc95cde6fb8"
          }
        },
        "452da988e6b048e19f3da4d61ebbef8e": {
          "model_module": "@jupyter-widgets/controls",
          "model_name": "HTMLModel",
          "model_module_version": "1.5.0",
          "state": {
            "_dom_classes": [],
            "_model_module": "@jupyter-widgets/controls",
            "_model_module_version": "1.5.0",
            "_model_name": "HTMLModel",
            "_view_count": null,
            "_view_module": "@jupyter-widgets/controls",
            "_view_module_version": "1.5.0",
            "_view_name": "HTMLView",
            "description": "",
            "description_tooltip": null,
            "layout": "IPY_MODEL_53ba22f1845e4309bbcfeba673304e9f",
            "placeholder": "​",
            "style": "IPY_MODEL_600b937c6d5b400aa912c99878de5b8c",
            "value": "tokenizer_config.json: 100%"
          }
        },
        "64a2d0c39017430098ead636da039eff": {
          "model_module": "@jupyter-widgets/controls",
          "model_name": "FloatProgressModel",
          "model_module_version": "1.5.0",
          "state": {
            "_dom_classes": [],
            "_model_module": "@jupyter-widgets/controls",
            "_model_module_version": "1.5.0",
            "_model_name": "FloatProgressModel",
            "_view_count": null,
            "_view_module": "@jupyter-widgets/controls",
            "_view_module_version": "1.5.0",
            "_view_name": "ProgressView",
            "bar_style": "success",
            "description": "",
            "description_tooltip": null,
            "layout": "IPY_MODEL_3d84267f3c244a54b13af8df6a6606af",
            "max": 54598,
            "min": 0,
            "orientation": "horizontal",
            "style": "IPY_MODEL_48e09847edc0447eae5d8d88463e23a0",
            "value": 54598
          }
        },
        "f8479a3a291842e3bb10de85cc912f54": {
          "model_module": "@jupyter-widgets/controls",
          "model_name": "HTMLModel",
          "model_module_version": "1.5.0",
          "state": {
            "_dom_classes": [],
            "_model_module": "@jupyter-widgets/controls",
            "_model_module_version": "1.5.0",
            "_model_name": "HTMLModel",
            "_view_count": null,
            "_view_module": "@jupyter-widgets/controls",
            "_view_module_version": "1.5.0",
            "_view_name": "HTMLView",
            "description": "",
            "description_tooltip": null,
            "layout": "IPY_MODEL_a2c9e66b23e74e4c8165ce4fca6697b0",
            "placeholder": "​",
            "style": "IPY_MODEL_f061c5f1d0f5403183da21b82dcdf9d2",
            "value": " 54.6k/54.6k [00:00&lt;00:00, 1.12MB/s]"
          }
        },
        "2e11ff5cab3b4dafa0337cc95cde6fb8": {
          "model_module": "@jupyter-widgets/base",
          "model_name": "LayoutModel",
          "model_module_version": "1.2.0",
          "state": {
            "_model_module": "@jupyter-widgets/base",
            "_model_module_version": "1.2.0",
            "_model_name": "LayoutModel",
            "_view_count": null,
            "_view_module": "@jupyter-widgets/base",
            "_view_module_version": "1.2.0",
            "_view_name": "LayoutView",
            "align_content": null,
            "align_items": null,
            "align_self": null,
            "border": null,
            "bottom": null,
            "display": null,
            "flex": null,
            "flex_flow": null,
            "grid_area": null,
            "grid_auto_columns": null,
            "grid_auto_flow": null,
            "grid_auto_rows": null,
            "grid_column": null,
            "grid_gap": null,
            "grid_row": null,
            "grid_template_areas": null,
            "grid_template_columns": null,
            "grid_template_rows": null,
            "height": null,
            "justify_content": null,
            "justify_items": null,
            "left": null,
            "margin": null,
            "max_height": null,
            "max_width": null,
            "min_height": null,
            "min_width": null,
            "object_fit": null,
            "object_position": null,
            "order": null,
            "overflow": null,
            "overflow_x": null,
            "overflow_y": null,
            "padding": null,
            "right": null,
            "top": null,
            "visibility": null,
            "width": null
          }
        },
        "53ba22f1845e4309bbcfeba673304e9f": {
          "model_module": "@jupyter-widgets/base",
          "model_name": "LayoutModel",
          "model_module_version": "1.2.0",
          "state": {
            "_model_module": "@jupyter-widgets/base",
            "_model_module_version": "1.2.0",
            "_model_name": "LayoutModel",
            "_view_count": null,
            "_view_module": "@jupyter-widgets/base",
            "_view_module_version": "1.2.0",
            "_view_name": "LayoutView",
            "align_content": null,
            "align_items": null,
            "align_self": null,
            "border": null,
            "bottom": null,
            "display": null,
            "flex": null,
            "flex_flow": null,
            "grid_area": null,
            "grid_auto_columns": null,
            "grid_auto_flow": null,
            "grid_auto_rows": null,
            "grid_column": null,
            "grid_gap": null,
            "grid_row": null,
            "grid_template_areas": null,
            "grid_template_columns": null,
            "grid_template_rows": null,
            "height": null,
            "justify_content": null,
            "justify_items": null,
            "left": null,
            "margin": null,
            "max_height": null,
            "max_width": null,
            "min_height": null,
            "min_width": null,
            "object_fit": null,
            "object_position": null,
            "order": null,
            "overflow": null,
            "overflow_x": null,
            "overflow_y": null,
            "padding": null,
            "right": null,
            "top": null,
            "visibility": null,
            "width": null
          }
        },
        "600b937c6d5b400aa912c99878de5b8c": {
          "model_module": "@jupyter-widgets/controls",
          "model_name": "DescriptionStyleModel",
          "model_module_version": "1.5.0",
          "state": {
            "_model_module": "@jupyter-widgets/controls",
            "_model_module_version": "1.5.0",
            "_model_name": "DescriptionStyleModel",
            "_view_count": null,
            "_view_module": "@jupyter-widgets/base",
            "_view_module_version": "1.2.0",
            "_view_name": "StyleView",
            "description_width": ""
          }
        },
        "3d84267f3c244a54b13af8df6a6606af": {
          "model_module": "@jupyter-widgets/base",
          "model_name": "LayoutModel",
          "model_module_version": "1.2.0",
          "state": {
            "_model_module": "@jupyter-widgets/base",
            "_model_module_version": "1.2.0",
            "_model_name": "LayoutModel",
            "_view_count": null,
            "_view_module": "@jupyter-widgets/base",
            "_view_module_version": "1.2.0",
            "_view_name": "LayoutView",
            "align_content": null,
            "align_items": null,
            "align_self": null,
            "border": null,
            "bottom": null,
            "display": null,
            "flex": null,
            "flex_flow": null,
            "grid_area": null,
            "grid_auto_columns": null,
            "grid_auto_flow": null,
            "grid_auto_rows": null,
            "grid_column": null,
            "grid_gap": null,
            "grid_row": null,
            "grid_template_areas": null,
            "grid_template_columns": null,
            "grid_template_rows": null,
            "height": null,
            "justify_content": null,
            "justify_items": null,
            "left": null,
            "margin": null,
            "max_height": null,
            "max_width": null,
            "min_height": null,
            "min_width": null,
            "object_fit": null,
            "object_position": null,
            "order": null,
            "overflow": null,
            "overflow_x": null,
            "overflow_y": null,
            "padding": null,
            "right": null,
            "top": null,
            "visibility": null,
            "width": null
          }
        },
        "48e09847edc0447eae5d8d88463e23a0": {
          "model_module": "@jupyter-widgets/controls",
          "model_name": "ProgressStyleModel",
          "model_module_version": "1.5.0",
          "state": {
            "_model_module": "@jupyter-widgets/controls",
            "_model_module_version": "1.5.0",
            "_model_name": "ProgressStyleModel",
            "_view_count": null,
            "_view_module": "@jupyter-widgets/base",
            "_view_module_version": "1.2.0",
            "_view_name": "StyleView",
            "bar_color": null,
            "description_width": ""
          }
        },
        "a2c9e66b23e74e4c8165ce4fca6697b0": {
          "model_module": "@jupyter-widgets/base",
          "model_name": "LayoutModel",
          "model_module_version": "1.2.0",
          "state": {
            "_model_module": "@jupyter-widgets/base",
            "_model_module_version": "1.2.0",
            "_model_name": "LayoutModel",
            "_view_count": null,
            "_view_module": "@jupyter-widgets/base",
            "_view_module_version": "1.2.0",
            "_view_name": "LayoutView",
            "align_content": null,
            "align_items": null,
            "align_self": null,
            "border": null,
            "bottom": null,
            "display": null,
            "flex": null,
            "flex_flow": null,
            "grid_area": null,
            "grid_auto_columns": null,
            "grid_auto_flow": null,
            "grid_auto_rows": null,
            "grid_column": null,
            "grid_gap": null,
            "grid_row": null,
            "grid_template_areas": null,
            "grid_template_columns": null,
            "grid_template_rows": null,
            "height": null,
            "justify_content": null,
            "justify_items": null,
            "left": null,
            "margin": null,
            "max_height": null,
            "max_width": null,
            "min_height": null,
            "min_width": null,
            "object_fit": null,
            "object_position": null,
            "order": null,
            "overflow": null,
            "overflow_x": null,
            "overflow_y": null,
            "padding": null,
            "right": null,
            "top": null,
            "visibility": null,
            "width": null
          }
        },
        "f061c5f1d0f5403183da21b82dcdf9d2": {
          "model_module": "@jupyter-widgets/controls",
          "model_name": "DescriptionStyleModel",
          "model_module_version": "1.5.0",
          "state": {
            "_model_module": "@jupyter-widgets/controls",
            "_model_module_version": "1.5.0",
            "_model_name": "DescriptionStyleModel",
            "_view_count": null,
            "_view_module": "@jupyter-widgets/base",
            "_view_module_version": "1.2.0",
            "_view_name": "StyleView",
            "description_width": ""
          }
        },
        "aadc04788a02495598862db1b17def95": {
          "model_module": "@jupyter-widgets/controls",
          "model_name": "HBoxModel",
          "model_module_version": "1.5.0",
          "state": {
            "_dom_classes": [],
            "_model_module": "@jupyter-widgets/controls",
            "_model_module_version": "1.5.0",
            "_model_name": "HBoxModel",
            "_view_count": null,
            "_view_module": "@jupyter-widgets/controls",
            "_view_module_version": "1.5.0",
            "_view_name": "HBoxView",
            "box_style": "",
            "children": [
              "IPY_MODEL_3d50cba28f474749a2b0c9e727eba6a7",
              "IPY_MODEL_429861e28d744d2ca627a515b24db2a6",
              "IPY_MODEL_1810c656ac24491eabce69331b2d6a45"
            ],
            "layout": "IPY_MODEL_2f5819e609ac4bacabdcfbedcf6dd44b"
          }
        },
        "3d50cba28f474749a2b0c9e727eba6a7": {
          "model_module": "@jupyter-widgets/controls",
          "model_name": "HTMLModel",
          "model_module_version": "1.5.0",
          "state": {
            "_dom_classes": [],
            "_model_module": "@jupyter-widgets/controls",
            "_model_module_version": "1.5.0",
            "_model_name": "HTMLModel",
            "_view_count": null,
            "_view_module": "@jupyter-widgets/controls",
            "_view_module_version": "1.5.0",
            "_view_name": "HTMLView",
            "description": "",
            "description_tooltip": null,
            "layout": "IPY_MODEL_e0d819312d51463cbaff5c3fd4b69fc5",
            "placeholder": "​",
            "style": "IPY_MODEL_4c21269438be41afa23560876888c0a2",
            "value": "tokenizer.json: 100%"
          }
        },
        "429861e28d744d2ca627a515b24db2a6": {
          "model_module": "@jupyter-widgets/controls",
          "model_name": "FloatProgressModel",
          "model_module_version": "1.5.0",
          "state": {
            "_dom_classes": [],
            "_model_module": "@jupyter-widgets/controls",
            "_model_module_version": "1.5.0",
            "_model_name": "FloatProgressModel",
            "_view_count": null,
            "_view_module": "@jupyter-widgets/controls",
            "_view_module_version": "1.5.0",
            "_view_name": "ProgressView",
            "bar_style": "success",
            "description": "",
            "description_tooltip": null,
            "layout": "IPY_MODEL_c38f86593efe47ac8caf59ae8d8ce58b",
            "max": 9085657,
            "min": 0,
            "orientation": "horizontal",
            "style": "IPY_MODEL_231048f5564a4b0f91bc8e98c8d02944",
            "value": 9085657
          }
        },
        "1810c656ac24491eabce69331b2d6a45": {
          "model_module": "@jupyter-widgets/controls",
          "model_name": "HTMLModel",
          "model_module_version": "1.5.0",
          "state": {
            "_dom_classes": [],
            "_model_module": "@jupyter-widgets/controls",
            "_model_module_version": "1.5.0",
            "_model_name": "HTMLModel",
            "_view_count": null,
            "_view_module": "@jupyter-widgets/controls",
            "_view_module_version": "1.5.0",
            "_view_name": "HTMLView",
            "description": "",
            "description_tooltip": null,
            "layout": "IPY_MODEL_c0577bad90744153b77d6b1127b6cdde",
            "placeholder": "​",
            "style": "IPY_MODEL_7beb1eb4f62d42c49cd1c1864311989d",
            "value": " 9.09M/9.09M [00:00&lt;00:00, 27.9MB/s]"
          }
        },
        "2f5819e609ac4bacabdcfbedcf6dd44b": {
          "model_module": "@jupyter-widgets/base",
          "model_name": "LayoutModel",
          "model_module_version": "1.2.0",
          "state": {
            "_model_module": "@jupyter-widgets/base",
            "_model_module_version": "1.2.0",
            "_model_name": "LayoutModel",
            "_view_count": null,
            "_view_module": "@jupyter-widgets/base",
            "_view_module_version": "1.2.0",
            "_view_name": "LayoutView",
            "align_content": null,
            "align_items": null,
            "align_self": null,
            "border": null,
            "bottom": null,
            "display": null,
            "flex": null,
            "flex_flow": null,
            "grid_area": null,
            "grid_auto_columns": null,
            "grid_auto_flow": null,
            "grid_auto_rows": null,
            "grid_column": null,
            "grid_gap": null,
            "grid_row": null,
            "grid_template_areas": null,
            "grid_template_columns": null,
            "grid_template_rows": null,
            "height": null,
            "justify_content": null,
            "justify_items": null,
            "left": null,
            "margin": null,
            "max_height": null,
            "max_width": null,
            "min_height": null,
            "min_width": null,
            "object_fit": null,
            "object_position": null,
            "order": null,
            "overflow": null,
            "overflow_x": null,
            "overflow_y": null,
            "padding": null,
            "right": null,
            "top": null,
            "visibility": null,
            "width": null
          }
        },
        "e0d819312d51463cbaff5c3fd4b69fc5": {
          "model_module": "@jupyter-widgets/base",
          "model_name": "LayoutModel",
          "model_module_version": "1.2.0",
          "state": {
            "_model_module": "@jupyter-widgets/base",
            "_model_module_version": "1.2.0",
            "_model_name": "LayoutModel",
            "_view_count": null,
            "_view_module": "@jupyter-widgets/base",
            "_view_module_version": "1.2.0",
            "_view_name": "LayoutView",
            "align_content": null,
            "align_items": null,
            "align_self": null,
            "border": null,
            "bottom": null,
            "display": null,
            "flex": null,
            "flex_flow": null,
            "grid_area": null,
            "grid_auto_columns": null,
            "grid_auto_flow": null,
            "grid_auto_rows": null,
            "grid_column": null,
            "grid_gap": null,
            "grid_row": null,
            "grid_template_areas": null,
            "grid_template_columns": null,
            "grid_template_rows": null,
            "height": null,
            "justify_content": null,
            "justify_items": null,
            "left": null,
            "margin": null,
            "max_height": null,
            "max_width": null,
            "min_height": null,
            "min_width": null,
            "object_fit": null,
            "object_position": null,
            "order": null,
            "overflow": null,
            "overflow_x": null,
            "overflow_y": null,
            "padding": null,
            "right": null,
            "top": null,
            "visibility": null,
            "width": null
          }
        },
        "4c21269438be41afa23560876888c0a2": {
          "model_module": "@jupyter-widgets/controls",
          "model_name": "DescriptionStyleModel",
          "model_module_version": "1.5.0",
          "state": {
            "_model_module": "@jupyter-widgets/controls",
            "_model_module_version": "1.5.0",
            "_model_name": "DescriptionStyleModel",
            "_view_count": null,
            "_view_module": "@jupyter-widgets/base",
            "_view_module_version": "1.2.0",
            "_view_name": "StyleView",
            "description_width": ""
          }
        },
        "c38f86593efe47ac8caf59ae8d8ce58b": {
          "model_module": "@jupyter-widgets/base",
          "model_name": "LayoutModel",
          "model_module_version": "1.2.0",
          "state": {
            "_model_module": "@jupyter-widgets/base",
            "_model_module_version": "1.2.0",
            "_model_name": "LayoutModel",
            "_view_count": null,
            "_view_module": "@jupyter-widgets/base",
            "_view_module_version": "1.2.0",
            "_view_name": "LayoutView",
            "align_content": null,
            "align_items": null,
            "align_self": null,
            "border": null,
            "bottom": null,
            "display": null,
            "flex": null,
            "flex_flow": null,
            "grid_area": null,
            "grid_auto_columns": null,
            "grid_auto_flow": null,
            "grid_auto_rows": null,
            "grid_column": null,
            "grid_gap": null,
            "grid_row": null,
            "grid_template_areas": null,
            "grid_template_columns": null,
            "grid_template_rows": null,
            "height": null,
            "justify_content": null,
            "justify_items": null,
            "left": null,
            "margin": null,
            "max_height": null,
            "max_width": null,
            "min_height": null,
            "min_width": null,
            "object_fit": null,
            "object_position": null,
            "order": null,
            "overflow": null,
            "overflow_x": null,
            "overflow_y": null,
            "padding": null,
            "right": null,
            "top": null,
            "visibility": null,
            "width": null
          }
        },
        "231048f5564a4b0f91bc8e98c8d02944": {
          "model_module": "@jupyter-widgets/controls",
          "model_name": "ProgressStyleModel",
          "model_module_version": "1.5.0",
          "state": {
            "_model_module": "@jupyter-widgets/controls",
            "_model_module_version": "1.5.0",
            "_model_name": "ProgressStyleModel",
            "_view_count": null,
            "_view_module": "@jupyter-widgets/base",
            "_view_module_version": "1.2.0",
            "_view_name": "StyleView",
            "bar_color": null,
            "description_width": ""
          }
        },
        "c0577bad90744153b77d6b1127b6cdde": {
          "model_module": "@jupyter-widgets/base",
          "model_name": "LayoutModel",
          "model_module_version": "1.2.0",
          "state": {
            "_model_module": "@jupyter-widgets/base",
            "_model_module_version": "1.2.0",
            "_model_name": "LayoutModel",
            "_view_count": null,
            "_view_module": "@jupyter-widgets/base",
            "_view_module_version": "1.2.0",
            "_view_name": "LayoutView",
            "align_content": null,
            "align_items": null,
            "align_self": null,
            "border": null,
            "bottom": null,
            "display": null,
            "flex": null,
            "flex_flow": null,
            "grid_area": null,
            "grid_auto_columns": null,
            "grid_auto_flow": null,
            "grid_auto_rows": null,
            "grid_column": null,
            "grid_gap": null,
            "grid_row": null,
            "grid_template_areas": null,
            "grid_template_columns": null,
            "grid_template_rows": null,
            "height": null,
            "justify_content": null,
            "justify_items": null,
            "left": null,
            "margin": null,
            "max_height": null,
            "max_width": null,
            "min_height": null,
            "min_width": null,
            "object_fit": null,
            "object_position": null,
            "order": null,
            "overflow": null,
            "overflow_x": null,
            "overflow_y": null,
            "padding": null,
            "right": null,
            "top": null,
            "visibility": null,
            "width": null
          }
        },
        "7beb1eb4f62d42c49cd1c1864311989d": {
          "model_module": "@jupyter-widgets/controls",
          "model_name": "DescriptionStyleModel",
          "model_module_version": "1.5.0",
          "state": {
            "_model_module": "@jupyter-widgets/controls",
            "_model_module_version": "1.5.0",
            "_model_name": "DescriptionStyleModel",
            "_view_count": null,
            "_view_module": "@jupyter-widgets/base",
            "_view_module_version": "1.2.0",
            "_view_name": "StyleView",
            "description_width": ""
          }
        },
        "19bd01c7815f4fc6bdb18fa105be2a1f": {
          "model_module": "@jupyter-widgets/controls",
          "model_name": "HBoxModel",
          "model_module_version": "1.5.0",
          "state": {
            "_dom_classes": [],
            "_model_module": "@jupyter-widgets/controls",
            "_model_module_version": "1.5.0",
            "_model_name": "HBoxModel",
            "_view_count": null,
            "_view_module": "@jupyter-widgets/controls",
            "_view_module_version": "1.5.0",
            "_view_name": "HBoxView",
            "box_style": "",
            "children": [
              "IPY_MODEL_e386bbf59151414fb27f172a0d354026",
              "IPY_MODEL_020b4d95efa94505898a338c3662f008",
              "IPY_MODEL_a7d8ffe60d504708a53f41f22d5c7b3f"
            ],
            "layout": "IPY_MODEL_22a914d358224292bdf65e20b112726c"
          }
        },
        "e386bbf59151414fb27f172a0d354026": {
          "model_module": "@jupyter-widgets/controls",
          "model_name": "HTMLModel",
          "model_module_version": "1.5.0",
          "state": {
            "_dom_classes": [],
            "_model_module": "@jupyter-widgets/controls",
            "_model_module_version": "1.5.0",
            "_model_name": "HTMLModel",
            "_view_count": null,
            "_view_module": "@jupyter-widgets/controls",
            "_view_module_version": "1.5.0",
            "_view_name": "HTMLView",
            "description": "",
            "description_tooltip": null,
            "layout": "IPY_MODEL_2fafed70d4a54132914c824381174006",
            "placeholder": "​",
            "style": "IPY_MODEL_b0626c908f7c4b4882dec1f2ac39bbc7",
            "value": "special_tokens_map.json: 100%"
          }
        },
        "020b4d95efa94505898a338c3662f008": {
          "model_module": "@jupyter-widgets/controls",
          "model_name": "FloatProgressModel",
          "model_module_version": "1.5.0",
          "state": {
            "_dom_classes": [],
            "_model_module": "@jupyter-widgets/controls",
            "_model_module_version": "1.5.0",
            "_model_name": "FloatProgressModel",
            "_view_count": null,
            "_view_module": "@jupyter-widgets/controls",
            "_view_module_version": "1.5.0",
            "_view_name": "ProgressView",
            "bar_style": "success",
            "description": "",
            "description_tooltip": null,
            "layout": "IPY_MODEL_bece87624b124f88af3b114610595cf1",
            "max": 454,
            "min": 0,
            "orientation": "horizontal",
            "style": "IPY_MODEL_beeb021e9cc14fb89c4829bf7bbd0550",
            "value": 454
          }
        },
        "a7d8ffe60d504708a53f41f22d5c7b3f": {
          "model_module": "@jupyter-widgets/controls",
          "model_name": "HTMLModel",
          "model_module_version": "1.5.0",
          "state": {
            "_dom_classes": [],
            "_model_module": "@jupyter-widgets/controls",
            "_model_module_version": "1.5.0",
            "_model_name": "HTMLModel",
            "_view_count": null,
            "_view_module": "@jupyter-widgets/controls",
            "_view_module_version": "1.5.0",
            "_view_name": "HTMLView",
            "description": "",
            "description_tooltip": null,
            "layout": "IPY_MODEL_d029232ca67d48fdb776d3f23b947b7b",
            "placeholder": "​",
            "style": "IPY_MODEL_ee5eb19f8bc64257964111742da6d2eb",
            "value": " 454/454 [00:00&lt;00:00, 10.7kB/s]"
          }
        },
        "22a914d358224292bdf65e20b112726c": {
          "model_module": "@jupyter-widgets/base",
          "model_name": "LayoutModel",
          "model_module_version": "1.2.0",
          "state": {
            "_model_module": "@jupyter-widgets/base",
            "_model_module_version": "1.2.0",
            "_model_name": "LayoutModel",
            "_view_count": null,
            "_view_module": "@jupyter-widgets/base",
            "_view_module_version": "1.2.0",
            "_view_name": "LayoutView",
            "align_content": null,
            "align_items": null,
            "align_self": null,
            "border": null,
            "bottom": null,
            "display": null,
            "flex": null,
            "flex_flow": null,
            "grid_area": null,
            "grid_auto_columns": null,
            "grid_auto_flow": null,
            "grid_auto_rows": null,
            "grid_column": null,
            "grid_gap": null,
            "grid_row": null,
            "grid_template_areas": null,
            "grid_template_columns": null,
            "grid_template_rows": null,
            "height": null,
            "justify_content": null,
            "justify_items": null,
            "left": null,
            "margin": null,
            "max_height": null,
            "max_width": null,
            "min_height": null,
            "min_width": null,
            "object_fit": null,
            "object_position": null,
            "order": null,
            "overflow": null,
            "overflow_x": null,
            "overflow_y": null,
            "padding": null,
            "right": null,
            "top": null,
            "visibility": null,
            "width": null
          }
        },
        "2fafed70d4a54132914c824381174006": {
          "model_module": "@jupyter-widgets/base",
          "model_name": "LayoutModel",
          "model_module_version": "1.2.0",
          "state": {
            "_model_module": "@jupyter-widgets/base",
            "_model_module_version": "1.2.0",
            "_model_name": "LayoutModel",
            "_view_count": null,
            "_view_module": "@jupyter-widgets/base",
            "_view_module_version": "1.2.0",
            "_view_name": "LayoutView",
            "align_content": null,
            "align_items": null,
            "align_self": null,
            "border": null,
            "bottom": null,
            "display": null,
            "flex": null,
            "flex_flow": null,
            "grid_area": null,
            "grid_auto_columns": null,
            "grid_auto_flow": null,
            "grid_auto_rows": null,
            "grid_column": null,
            "grid_gap": null,
            "grid_row": null,
            "grid_template_areas": null,
            "grid_template_columns": null,
            "grid_template_rows": null,
            "height": null,
            "justify_content": null,
            "justify_items": null,
            "left": null,
            "margin": null,
            "max_height": null,
            "max_width": null,
            "min_height": null,
            "min_width": null,
            "object_fit": null,
            "object_position": null,
            "order": null,
            "overflow": null,
            "overflow_x": null,
            "overflow_y": null,
            "padding": null,
            "right": null,
            "top": null,
            "visibility": null,
            "width": null
          }
        },
        "b0626c908f7c4b4882dec1f2ac39bbc7": {
          "model_module": "@jupyter-widgets/controls",
          "model_name": "DescriptionStyleModel",
          "model_module_version": "1.5.0",
          "state": {
            "_model_module": "@jupyter-widgets/controls",
            "_model_module_version": "1.5.0",
            "_model_name": "DescriptionStyleModel",
            "_view_count": null,
            "_view_module": "@jupyter-widgets/base",
            "_view_module_version": "1.2.0",
            "_view_name": "StyleView",
            "description_width": ""
          }
        },
        "bece87624b124f88af3b114610595cf1": {
          "model_module": "@jupyter-widgets/base",
          "model_name": "LayoutModel",
          "model_module_version": "1.2.0",
          "state": {
            "_model_module": "@jupyter-widgets/base",
            "_model_module_version": "1.2.0",
            "_model_name": "LayoutModel",
            "_view_count": null,
            "_view_module": "@jupyter-widgets/base",
            "_view_module_version": "1.2.0",
            "_view_name": "LayoutView",
            "align_content": null,
            "align_items": null,
            "align_self": null,
            "border": null,
            "bottom": null,
            "display": null,
            "flex": null,
            "flex_flow": null,
            "grid_area": null,
            "grid_auto_columns": null,
            "grid_auto_flow": null,
            "grid_auto_rows": null,
            "grid_column": null,
            "grid_gap": null,
            "grid_row": null,
            "grid_template_areas": null,
            "grid_template_columns": null,
            "grid_template_rows": null,
            "height": null,
            "justify_content": null,
            "justify_items": null,
            "left": null,
            "margin": null,
            "max_height": null,
            "max_width": null,
            "min_height": null,
            "min_width": null,
            "object_fit": null,
            "object_position": null,
            "order": null,
            "overflow": null,
            "overflow_x": null,
            "overflow_y": null,
            "padding": null,
            "right": null,
            "top": null,
            "visibility": null,
            "width": null
          }
        },
        "beeb021e9cc14fb89c4829bf7bbd0550": {
          "model_module": "@jupyter-widgets/controls",
          "model_name": "ProgressStyleModel",
          "model_module_version": "1.5.0",
          "state": {
            "_model_module": "@jupyter-widgets/controls",
            "_model_module_version": "1.5.0",
            "_model_name": "ProgressStyleModel",
            "_view_count": null,
            "_view_module": "@jupyter-widgets/base",
            "_view_module_version": "1.2.0",
            "_view_name": "StyleView",
            "bar_color": null,
            "description_width": ""
          }
        },
        "d029232ca67d48fdb776d3f23b947b7b": {
          "model_module": "@jupyter-widgets/base",
          "model_name": "LayoutModel",
          "model_module_version": "1.2.0",
          "state": {
            "_model_module": "@jupyter-widgets/base",
            "_model_module_version": "1.2.0",
            "_model_name": "LayoutModel",
            "_view_count": null,
            "_view_module": "@jupyter-widgets/base",
            "_view_module_version": "1.2.0",
            "_view_name": "LayoutView",
            "align_content": null,
            "align_items": null,
            "align_self": null,
            "border": null,
            "bottom": null,
            "display": null,
            "flex": null,
            "flex_flow": null,
            "grid_area": null,
            "grid_auto_columns": null,
            "grid_auto_flow": null,
            "grid_auto_rows": null,
            "grid_column": null,
            "grid_gap": null,
            "grid_row": null,
            "grid_template_areas": null,
            "grid_template_columns": null,
            "grid_template_rows": null,
            "height": null,
            "justify_content": null,
            "justify_items": null,
            "left": null,
            "margin": null,
            "max_height": null,
            "max_width": null,
            "min_height": null,
            "min_width": null,
            "object_fit": null,
            "object_position": null,
            "order": null,
            "overflow": null,
            "overflow_x": null,
            "overflow_y": null,
            "padding": null,
            "right": null,
            "top": null,
            "visibility": null,
            "width": null
          }
        },
        "ee5eb19f8bc64257964111742da6d2eb": {
          "model_module": "@jupyter-widgets/controls",
          "model_name": "DescriptionStyleModel",
          "model_module_version": "1.5.0",
          "state": {
            "_model_module": "@jupyter-widgets/controls",
            "_model_module_version": "1.5.0",
            "_model_name": "DescriptionStyleModel",
            "_view_count": null,
            "_view_module": "@jupyter-widgets/base",
            "_view_module_version": "1.2.0",
            "_view_name": "StyleView",
            "description_width": ""
          }
        },
        "b7e0d56667ad457685437ea5278a4444": {
          "model_module": "@jupyter-widgets/controls",
          "model_name": "HBoxModel",
          "model_module_version": "1.5.0",
          "state": {
            "_dom_classes": [],
            "_model_module": "@jupyter-widgets/controls",
            "_model_module_version": "1.5.0",
            "_model_name": "HBoxModel",
            "_view_count": null,
            "_view_module": "@jupyter-widgets/controls",
            "_view_module_version": "1.5.0",
            "_view_name": "HBoxView",
            "box_style": "",
            "children": [
              "IPY_MODEL_69d801045eae4182a80c80dd1d44510c",
              "IPY_MODEL_d2a962476ea84e8c8b0e5c1ead673d70",
              "IPY_MODEL_2dd8e74c702245cca908fff9d010bf33"
            ],
            "layout": "IPY_MODEL_580cc5fc8a964f6489afaaf51bdc7b54"
          }
        },
        "69d801045eae4182a80c80dd1d44510c": {
          "model_module": "@jupyter-widgets/controls",
          "model_name": "HTMLModel",
          "model_module_version": "1.5.0",
          "state": {
            "_dom_classes": [],
            "_model_module": "@jupyter-widgets/controls",
            "_model_module_version": "1.5.0",
            "_model_name": "HTMLModel",
            "_view_count": null,
            "_view_module": "@jupyter-widgets/controls",
            "_view_module_version": "1.5.0",
            "_view_name": "HTMLView",
            "description": "",
            "description_tooltip": null,
            "layout": "IPY_MODEL_e48ad0a5544f4b119f7d44d4e7b71e39",
            "placeholder": "​",
            "style": "IPY_MODEL_c44bf5f7acbf407ab41229269e50ca28",
            "value": "config.json: 100%"
          }
        },
        "d2a962476ea84e8c8b0e5c1ead673d70": {
          "model_module": "@jupyter-widgets/controls",
          "model_name": "FloatProgressModel",
          "model_module_version": "1.5.0",
          "state": {
            "_dom_classes": [],
            "_model_module": "@jupyter-widgets/controls",
            "_model_module_version": "1.5.0",
            "_model_name": "FloatProgressModel",
            "_view_count": null,
            "_view_module": "@jupyter-widgets/controls",
            "_view_module_version": "1.5.0",
            "_view_name": "ProgressView",
            "bar_style": "success",
            "description": "",
            "description_tooltip": null,
            "layout": "IPY_MODEL_e68648032046407cb67b086e8e36a409",
            "max": 927,
            "min": 0,
            "orientation": "horizontal",
            "style": "IPY_MODEL_a3d3d5d633be4b97ae9fb7ec3a4b6343",
            "value": 927
          }
        },
        "2dd8e74c702245cca908fff9d010bf33": {
          "model_module": "@jupyter-widgets/controls",
          "model_name": "HTMLModel",
          "model_module_version": "1.5.0",
          "state": {
            "_dom_classes": [],
            "_model_module": "@jupyter-widgets/controls",
            "_model_module_version": "1.5.0",
            "_model_name": "HTMLModel",
            "_view_count": null,
            "_view_module": "@jupyter-widgets/controls",
            "_view_module_version": "1.5.0",
            "_view_name": "HTMLView",
            "description": "",
            "description_tooltip": null,
            "layout": "IPY_MODEL_3f07a042099746edaf54b20ea0097f6b",
            "placeholder": "​",
            "style": "IPY_MODEL_a360043636a145e4a4b78d70644c235c",
            "value": " 927/927 [00:00&lt;00:00, 25.4kB/s]"
          }
        },
        "580cc5fc8a964f6489afaaf51bdc7b54": {
          "model_module": "@jupyter-widgets/base",
          "model_name": "LayoutModel",
          "model_module_version": "1.2.0",
          "state": {
            "_model_module": "@jupyter-widgets/base",
            "_model_module_version": "1.2.0",
            "_model_name": "LayoutModel",
            "_view_count": null,
            "_view_module": "@jupyter-widgets/base",
            "_view_module_version": "1.2.0",
            "_view_name": "LayoutView",
            "align_content": null,
            "align_items": null,
            "align_self": null,
            "border": null,
            "bottom": null,
            "display": null,
            "flex": null,
            "flex_flow": null,
            "grid_area": null,
            "grid_auto_columns": null,
            "grid_auto_flow": null,
            "grid_auto_rows": null,
            "grid_column": null,
            "grid_gap": null,
            "grid_row": null,
            "grid_template_areas": null,
            "grid_template_columns": null,
            "grid_template_rows": null,
            "height": null,
            "justify_content": null,
            "justify_items": null,
            "left": null,
            "margin": null,
            "max_height": null,
            "max_width": null,
            "min_height": null,
            "min_width": null,
            "object_fit": null,
            "object_position": null,
            "order": null,
            "overflow": null,
            "overflow_x": null,
            "overflow_y": null,
            "padding": null,
            "right": null,
            "top": null,
            "visibility": null,
            "width": null
          }
        },
        "e48ad0a5544f4b119f7d44d4e7b71e39": {
          "model_module": "@jupyter-widgets/base",
          "model_name": "LayoutModel",
          "model_module_version": "1.2.0",
          "state": {
            "_model_module": "@jupyter-widgets/base",
            "_model_module_version": "1.2.0",
            "_model_name": "LayoutModel",
            "_view_count": null,
            "_view_module": "@jupyter-widgets/base",
            "_view_module_version": "1.2.0",
            "_view_name": "LayoutView",
            "align_content": null,
            "align_items": null,
            "align_self": null,
            "border": null,
            "bottom": null,
            "display": null,
            "flex": null,
            "flex_flow": null,
            "grid_area": null,
            "grid_auto_columns": null,
            "grid_auto_flow": null,
            "grid_auto_rows": null,
            "grid_column": null,
            "grid_gap": null,
            "grid_row": null,
            "grid_template_areas": null,
            "grid_template_columns": null,
            "grid_template_rows": null,
            "height": null,
            "justify_content": null,
            "justify_items": null,
            "left": null,
            "margin": null,
            "max_height": null,
            "max_width": null,
            "min_height": null,
            "min_width": null,
            "object_fit": null,
            "object_position": null,
            "order": null,
            "overflow": null,
            "overflow_x": null,
            "overflow_y": null,
            "padding": null,
            "right": null,
            "top": null,
            "visibility": null,
            "width": null
          }
        },
        "c44bf5f7acbf407ab41229269e50ca28": {
          "model_module": "@jupyter-widgets/controls",
          "model_name": "DescriptionStyleModel",
          "model_module_version": "1.5.0",
          "state": {
            "_model_module": "@jupyter-widgets/controls",
            "_model_module_version": "1.5.0",
            "_model_name": "DescriptionStyleModel",
            "_view_count": null,
            "_view_module": "@jupyter-widgets/base",
            "_view_module_version": "1.2.0",
            "_view_name": "StyleView",
            "description_width": ""
          }
        },
        "e68648032046407cb67b086e8e36a409": {
          "model_module": "@jupyter-widgets/base",
          "model_name": "LayoutModel",
          "model_module_version": "1.2.0",
          "state": {
            "_model_module": "@jupyter-widgets/base",
            "_model_module_version": "1.2.0",
            "_model_name": "LayoutModel",
            "_view_count": null,
            "_view_module": "@jupyter-widgets/base",
            "_view_module_version": "1.2.0",
            "_view_name": "LayoutView",
            "align_content": null,
            "align_items": null,
            "align_self": null,
            "border": null,
            "bottom": null,
            "display": null,
            "flex": null,
            "flex_flow": null,
            "grid_area": null,
            "grid_auto_columns": null,
            "grid_auto_flow": null,
            "grid_auto_rows": null,
            "grid_column": null,
            "grid_gap": null,
            "grid_row": null,
            "grid_template_areas": null,
            "grid_template_columns": null,
            "grid_template_rows": null,
            "height": null,
            "justify_content": null,
            "justify_items": null,
            "left": null,
            "margin": null,
            "max_height": null,
            "max_width": null,
            "min_height": null,
            "min_width": null,
            "object_fit": null,
            "object_position": null,
            "order": null,
            "overflow": null,
            "overflow_x": null,
            "overflow_y": null,
            "padding": null,
            "right": null,
            "top": null,
            "visibility": null,
            "width": null
          }
        },
        "a3d3d5d633be4b97ae9fb7ec3a4b6343": {
          "model_module": "@jupyter-widgets/controls",
          "model_name": "ProgressStyleModel",
          "model_module_version": "1.5.0",
          "state": {
            "_model_module": "@jupyter-widgets/controls",
            "_model_module_version": "1.5.0",
            "_model_name": "ProgressStyleModel",
            "_view_count": null,
            "_view_module": "@jupyter-widgets/base",
            "_view_module_version": "1.2.0",
            "_view_name": "StyleView",
            "bar_color": null,
            "description_width": ""
          }
        },
        "3f07a042099746edaf54b20ea0097f6b": {
          "model_module": "@jupyter-widgets/base",
          "model_name": "LayoutModel",
          "model_module_version": "1.2.0",
          "state": {
            "_model_module": "@jupyter-widgets/base",
            "_model_module_version": "1.2.0",
            "_model_name": "LayoutModel",
            "_view_count": null,
            "_view_module": "@jupyter-widgets/base",
            "_view_module_version": "1.2.0",
            "_view_name": "LayoutView",
            "align_content": null,
            "align_items": null,
            "align_self": null,
            "border": null,
            "bottom": null,
            "display": null,
            "flex": null,
            "flex_flow": null,
            "grid_area": null,
            "grid_auto_columns": null,
            "grid_auto_flow": null,
            "grid_auto_rows": null,
            "grid_column": null,
            "grid_gap": null,
            "grid_row": null,
            "grid_template_areas": null,
            "grid_template_columns": null,
            "grid_template_rows": null,
            "height": null,
            "justify_content": null,
            "justify_items": null,
            "left": null,
            "margin": null,
            "max_height": null,
            "max_width": null,
            "min_height": null,
            "min_width": null,
            "object_fit": null,
            "object_position": null,
            "order": null,
            "overflow": null,
            "overflow_x": null,
            "overflow_y": null,
            "padding": null,
            "right": null,
            "top": null,
            "visibility": null,
            "width": null
          }
        },
        "a360043636a145e4a4b78d70644c235c": {
          "model_module": "@jupyter-widgets/controls",
          "model_name": "DescriptionStyleModel",
          "model_module_version": "1.5.0",
          "state": {
            "_model_module": "@jupyter-widgets/controls",
            "_model_module_version": "1.5.0",
            "_model_name": "DescriptionStyleModel",
            "_view_count": null,
            "_view_module": "@jupyter-widgets/base",
            "_view_module_version": "1.2.0",
            "_view_name": "StyleView",
            "description_width": ""
          }
        },
        "8befaaa874c340a6acc40e9f0da09eaf": {
          "model_module": "@jupyter-widgets/controls",
          "model_name": "HBoxModel",
          "model_module_version": "1.5.0",
          "state": {
            "_dom_classes": [],
            "_model_module": "@jupyter-widgets/controls",
            "_model_module_version": "1.5.0",
            "_model_name": "HBoxModel",
            "_view_count": null,
            "_view_module": "@jupyter-widgets/controls",
            "_view_module_version": "1.5.0",
            "_view_name": "HBoxView",
            "box_style": "",
            "children": [
              "IPY_MODEL_649720b71f5a4e9daeede753a2a2a970",
              "IPY_MODEL_fe8e533cb3de48d08dd43a102c0b441d",
              "IPY_MODEL_6ad26d822e2741ce8082740e694a3ab3"
            ],
            "layout": "IPY_MODEL_8e0953beb3de468388a4af866e9fcfe3"
          }
        },
        "649720b71f5a4e9daeede753a2a2a970": {
          "model_module": "@jupyter-widgets/controls",
          "model_name": "HTMLModel",
          "model_module_version": "1.5.0",
          "state": {
            "_dom_classes": [],
            "_model_module": "@jupyter-widgets/controls",
            "_model_module_version": "1.5.0",
            "_model_name": "HTMLModel",
            "_view_count": null,
            "_view_module": "@jupyter-widgets/controls",
            "_view_module_version": "1.5.0",
            "_view_name": "HTMLView",
            "description": "",
            "description_tooltip": null,
            "layout": "IPY_MODEL_00a111e8c1844afaa4611f4fb59a057b",
            "placeholder": "​",
            "style": "IPY_MODEL_a6616b7f3a92474092b6876cfc2c65da",
            "value": "model.safetensors: 100%"
          }
        },
        "fe8e533cb3de48d08dd43a102c0b441d": {
          "model_module": "@jupyter-widgets/controls",
          "model_name": "FloatProgressModel",
          "model_module_version": "1.5.0",
          "state": {
            "_dom_classes": [],
            "_model_module": "@jupyter-widgets/controls",
            "_model_module_version": "1.5.0",
            "_model_name": "FloatProgressModel",
            "_view_count": null,
            "_view_module": "@jupyter-widgets/controls",
            "_view_module_version": "1.5.0",
            "_view_name": "ProgressView",
            "bar_style": "success",
            "description": "",
            "description_tooltip": null,
            "layout": "IPY_MODEL_a610248f860f4f06831e2d2836163185",
            "max": 2471645608,
            "min": 0,
            "orientation": "horizontal",
            "style": "IPY_MODEL_a50a2acb4f3841fdaf28be039dc04b69",
            "value": 2471645608
          }
        },
        "6ad26d822e2741ce8082740e694a3ab3": {
          "model_module": "@jupyter-widgets/controls",
          "model_name": "HTMLModel",
          "model_module_version": "1.5.0",
          "state": {
            "_dom_classes": [],
            "_model_module": "@jupyter-widgets/controls",
            "_model_module_version": "1.5.0",
            "_model_name": "HTMLModel",
            "_view_count": null,
            "_view_module": "@jupyter-widgets/controls",
            "_view_module_version": "1.5.0",
            "_view_name": "HTMLView",
            "description": "",
            "description_tooltip": null,
            "layout": "IPY_MODEL_d38acf29afd64716a40991d86e3fb67e",
            "placeholder": "​",
            "style": "IPY_MODEL_90412480ef124ec6a89a0590d18913b7",
            "value": " 2.47G/2.47G [00:58&lt;00:00, 43.0MB/s]"
          }
        },
        "8e0953beb3de468388a4af866e9fcfe3": {
          "model_module": "@jupyter-widgets/base",
          "model_name": "LayoutModel",
          "model_module_version": "1.2.0",
          "state": {
            "_model_module": "@jupyter-widgets/base",
            "_model_module_version": "1.2.0",
            "_model_name": "LayoutModel",
            "_view_count": null,
            "_view_module": "@jupyter-widgets/base",
            "_view_module_version": "1.2.0",
            "_view_name": "LayoutView",
            "align_content": null,
            "align_items": null,
            "align_self": null,
            "border": null,
            "bottom": null,
            "display": null,
            "flex": null,
            "flex_flow": null,
            "grid_area": null,
            "grid_auto_columns": null,
            "grid_auto_flow": null,
            "grid_auto_rows": null,
            "grid_column": null,
            "grid_gap": null,
            "grid_row": null,
            "grid_template_areas": null,
            "grid_template_columns": null,
            "grid_template_rows": null,
            "height": null,
            "justify_content": null,
            "justify_items": null,
            "left": null,
            "margin": null,
            "max_height": null,
            "max_width": null,
            "min_height": null,
            "min_width": null,
            "object_fit": null,
            "object_position": null,
            "order": null,
            "overflow": null,
            "overflow_x": null,
            "overflow_y": null,
            "padding": null,
            "right": null,
            "top": null,
            "visibility": null,
            "width": null
          }
        },
        "00a111e8c1844afaa4611f4fb59a057b": {
          "model_module": "@jupyter-widgets/base",
          "model_name": "LayoutModel",
          "model_module_version": "1.2.0",
          "state": {
            "_model_module": "@jupyter-widgets/base",
            "_model_module_version": "1.2.0",
            "_model_name": "LayoutModel",
            "_view_count": null,
            "_view_module": "@jupyter-widgets/base",
            "_view_module_version": "1.2.0",
            "_view_name": "LayoutView",
            "align_content": null,
            "align_items": null,
            "align_self": null,
            "border": null,
            "bottom": null,
            "display": null,
            "flex": null,
            "flex_flow": null,
            "grid_area": null,
            "grid_auto_columns": null,
            "grid_auto_flow": null,
            "grid_auto_rows": null,
            "grid_column": null,
            "grid_gap": null,
            "grid_row": null,
            "grid_template_areas": null,
            "grid_template_columns": null,
            "grid_template_rows": null,
            "height": null,
            "justify_content": null,
            "justify_items": null,
            "left": null,
            "margin": null,
            "max_height": null,
            "max_width": null,
            "min_height": null,
            "min_width": null,
            "object_fit": null,
            "object_position": null,
            "order": null,
            "overflow": null,
            "overflow_x": null,
            "overflow_y": null,
            "padding": null,
            "right": null,
            "top": null,
            "visibility": null,
            "width": null
          }
        },
        "a6616b7f3a92474092b6876cfc2c65da": {
          "model_module": "@jupyter-widgets/controls",
          "model_name": "DescriptionStyleModel",
          "model_module_version": "1.5.0",
          "state": {
            "_model_module": "@jupyter-widgets/controls",
            "_model_module_version": "1.5.0",
            "_model_name": "DescriptionStyleModel",
            "_view_count": null,
            "_view_module": "@jupyter-widgets/base",
            "_view_module_version": "1.2.0",
            "_view_name": "StyleView",
            "description_width": ""
          }
        },
        "a610248f860f4f06831e2d2836163185": {
          "model_module": "@jupyter-widgets/base",
          "model_name": "LayoutModel",
          "model_module_version": "1.2.0",
          "state": {
            "_model_module": "@jupyter-widgets/base",
            "_model_module_version": "1.2.0",
            "_model_name": "LayoutModel",
            "_view_count": null,
            "_view_module": "@jupyter-widgets/base",
            "_view_module_version": "1.2.0",
            "_view_name": "LayoutView",
            "align_content": null,
            "align_items": null,
            "align_self": null,
            "border": null,
            "bottom": null,
            "display": null,
            "flex": null,
            "flex_flow": null,
            "grid_area": null,
            "grid_auto_columns": null,
            "grid_auto_flow": null,
            "grid_auto_rows": null,
            "grid_column": null,
            "grid_gap": null,
            "grid_row": null,
            "grid_template_areas": null,
            "grid_template_columns": null,
            "grid_template_rows": null,
            "height": null,
            "justify_content": null,
            "justify_items": null,
            "left": null,
            "margin": null,
            "max_height": null,
            "max_width": null,
            "min_height": null,
            "min_width": null,
            "object_fit": null,
            "object_position": null,
            "order": null,
            "overflow": null,
            "overflow_x": null,
            "overflow_y": null,
            "padding": null,
            "right": null,
            "top": null,
            "visibility": null,
            "width": null
          }
        },
        "a50a2acb4f3841fdaf28be039dc04b69": {
          "model_module": "@jupyter-widgets/controls",
          "model_name": "ProgressStyleModel",
          "model_module_version": "1.5.0",
          "state": {
            "_model_module": "@jupyter-widgets/controls",
            "_model_module_version": "1.5.0",
            "_model_name": "ProgressStyleModel",
            "_view_count": null,
            "_view_module": "@jupyter-widgets/base",
            "_view_module_version": "1.2.0",
            "_view_name": "StyleView",
            "bar_color": null,
            "description_width": ""
          }
        },
        "d38acf29afd64716a40991d86e3fb67e": {
          "model_module": "@jupyter-widgets/base",
          "model_name": "LayoutModel",
          "model_module_version": "1.2.0",
          "state": {
            "_model_module": "@jupyter-widgets/base",
            "_model_module_version": "1.2.0",
            "_model_name": "LayoutModel",
            "_view_count": null,
            "_view_module": "@jupyter-widgets/base",
            "_view_module_version": "1.2.0",
            "_view_name": "LayoutView",
            "align_content": null,
            "align_items": null,
            "align_self": null,
            "border": null,
            "bottom": null,
            "display": null,
            "flex": null,
            "flex_flow": null,
            "grid_area": null,
            "grid_auto_columns": null,
            "grid_auto_flow": null,
            "grid_auto_rows": null,
            "grid_column": null,
            "grid_gap": null,
            "grid_row": null,
            "grid_template_areas": null,
            "grid_template_columns": null,
            "grid_template_rows": null,
            "height": null,
            "justify_content": null,
            "justify_items": null,
            "left": null,
            "margin": null,
            "max_height": null,
            "max_width": null,
            "min_height": null,
            "min_width": null,
            "object_fit": null,
            "object_position": null,
            "order": null,
            "overflow": null,
            "overflow_x": null,
            "overflow_y": null,
            "padding": null,
            "right": null,
            "top": null,
            "visibility": null,
            "width": null
          }
        },
        "90412480ef124ec6a89a0590d18913b7": {
          "model_module": "@jupyter-widgets/controls",
          "model_name": "DescriptionStyleModel",
          "model_module_version": "1.5.0",
          "state": {
            "_model_module": "@jupyter-widgets/controls",
            "_model_module_version": "1.5.0",
            "_model_name": "DescriptionStyleModel",
            "_view_count": null,
            "_view_module": "@jupyter-widgets/base",
            "_view_module_version": "1.2.0",
            "_view_name": "StyleView",
            "description_width": ""
          }
        },
        "ba0688659b014e5db69c6ae525da8448": {
          "model_module": "@jupyter-widgets/controls",
          "model_name": "HBoxModel",
          "model_module_version": "1.5.0",
          "state": {
            "_dom_classes": [],
            "_model_module": "@jupyter-widgets/controls",
            "_model_module_version": "1.5.0",
            "_model_name": "HBoxModel",
            "_view_count": null,
            "_view_module": "@jupyter-widgets/controls",
            "_view_module_version": "1.5.0",
            "_view_name": "HBoxView",
            "box_style": "",
            "children": [
              "IPY_MODEL_9bd24cadfaa849b8a72671012a2b972d",
              "IPY_MODEL_aff7e9ba3564493190023c588add47d7",
              "IPY_MODEL_da0d9ebc21bb48db816314d2c507358b"
            ],
            "layout": "IPY_MODEL_e1c0de5a1b974c32b1844cd0dc44aa8b"
          }
        },
        "9bd24cadfaa849b8a72671012a2b972d": {
          "model_module": "@jupyter-widgets/controls",
          "model_name": "HTMLModel",
          "model_module_version": "1.5.0",
          "state": {
            "_dom_classes": [],
            "_model_module": "@jupyter-widgets/controls",
            "_model_module_version": "1.5.0",
            "_model_name": "HTMLModel",
            "_view_count": null,
            "_view_module": "@jupyter-widgets/controls",
            "_view_module_version": "1.5.0",
            "_view_name": "HTMLView",
            "description": "",
            "description_tooltip": null,
            "layout": "IPY_MODEL_51924548dc9c4aacad3b2497a8b6c7fa",
            "placeholder": "​",
            "style": "IPY_MODEL_19a77161c2f44474a536c12cda3e6750",
            "value": "generation_config.json: 100%"
          }
        },
        "aff7e9ba3564493190023c588add47d7": {
          "model_module": "@jupyter-widgets/controls",
          "model_name": "FloatProgressModel",
          "model_module_version": "1.5.0",
          "state": {
            "_dom_classes": [],
            "_model_module": "@jupyter-widgets/controls",
            "_model_module_version": "1.5.0",
            "_model_name": "FloatProgressModel",
            "_view_count": null,
            "_view_module": "@jupyter-widgets/controls",
            "_view_module_version": "1.5.0",
            "_view_name": "ProgressView",
            "bar_style": "success",
            "description": "",
            "description_tooltip": null,
            "layout": "IPY_MODEL_aa883ae4dd144dd2b25aebc13f28b76d",
            "max": 184,
            "min": 0,
            "orientation": "horizontal",
            "style": "IPY_MODEL_81de6cfbd08e4c04bdd104eecff647d0",
            "value": 184
          }
        },
        "da0d9ebc21bb48db816314d2c507358b": {
          "model_module": "@jupyter-widgets/controls",
          "model_name": "HTMLModel",
          "model_module_version": "1.5.0",
          "state": {
            "_dom_classes": [],
            "_model_module": "@jupyter-widgets/controls",
            "_model_module_version": "1.5.0",
            "_model_name": "HTMLModel",
            "_view_count": null,
            "_view_module": "@jupyter-widgets/controls",
            "_view_module_version": "1.5.0",
            "_view_name": "HTMLView",
            "description": "",
            "description_tooltip": null,
            "layout": "IPY_MODEL_ad354b21785947b8a69315a4e109e546",
            "placeholder": "​",
            "style": "IPY_MODEL_4431ffc23c0d498ca03b70a9eac4afc1",
            "value": " 184/184 [00:00&lt;00:00, 3.70kB/s]"
          }
        },
        "e1c0de5a1b974c32b1844cd0dc44aa8b": {
          "model_module": "@jupyter-widgets/base",
          "model_name": "LayoutModel",
          "model_module_version": "1.2.0",
          "state": {
            "_model_module": "@jupyter-widgets/base",
            "_model_module_version": "1.2.0",
            "_model_name": "LayoutModel",
            "_view_count": null,
            "_view_module": "@jupyter-widgets/base",
            "_view_module_version": "1.2.0",
            "_view_name": "LayoutView",
            "align_content": null,
            "align_items": null,
            "align_self": null,
            "border": null,
            "bottom": null,
            "display": null,
            "flex": null,
            "flex_flow": null,
            "grid_area": null,
            "grid_auto_columns": null,
            "grid_auto_flow": null,
            "grid_auto_rows": null,
            "grid_column": null,
            "grid_gap": null,
            "grid_row": null,
            "grid_template_areas": null,
            "grid_template_columns": null,
            "grid_template_rows": null,
            "height": null,
            "justify_content": null,
            "justify_items": null,
            "left": null,
            "margin": null,
            "max_height": null,
            "max_width": null,
            "min_height": null,
            "min_width": null,
            "object_fit": null,
            "object_position": null,
            "order": null,
            "overflow": null,
            "overflow_x": null,
            "overflow_y": null,
            "padding": null,
            "right": null,
            "top": null,
            "visibility": null,
            "width": null
          }
        },
        "51924548dc9c4aacad3b2497a8b6c7fa": {
          "model_module": "@jupyter-widgets/base",
          "model_name": "LayoutModel",
          "model_module_version": "1.2.0",
          "state": {
            "_model_module": "@jupyter-widgets/base",
            "_model_module_version": "1.2.0",
            "_model_name": "LayoutModel",
            "_view_count": null,
            "_view_module": "@jupyter-widgets/base",
            "_view_module_version": "1.2.0",
            "_view_name": "LayoutView",
            "align_content": null,
            "align_items": null,
            "align_self": null,
            "border": null,
            "bottom": null,
            "display": null,
            "flex": null,
            "flex_flow": null,
            "grid_area": null,
            "grid_auto_columns": null,
            "grid_auto_flow": null,
            "grid_auto_rows": null,
            "grid_column": null,
            "grid_gap": null,
            "grid_row": null,
            "grid_template_areas": null,
            "grid_template_columns": null,
            "grid_template_rows": null,
            "height": null,
            "justify_content": null,
            "justify_items": null,
            "left": null,
            "margin": null,
            "max_height": null,
            "max_width": null,
            "min_height": null,
            "min_width": null,
            "object_fit": null,
            "object_position": null,
            "order": null,
            "overflow": null,
            "overflow_x": null,
            "overflow_y": null,
            "padding": null,
            "right": null,
            "top": null,
            "visibility": null,
            "width": null
          }
        },
        "19a77161c2f44474a536c12cda3e6750": {
          "model_module": "@jupyter-widgets/controls",
          "model_name": "DescriptionStyleModel",
          "model_module_version": "1.5.0",
          "state": {
            "_model_module": "@jupyter-widgets/controls",
            "_model_module_version": "1.5.0",
            "_model_name": "DescriptionStyleModel",
            "_view_count": null,
            "_view_module": "@jupyter-widgets/base",
            "_view_module_version": "1.2.0",
            "_view_name": "StyleView",
            "description_width": ""
          }
        },
        "aa883ae4dd144dd2b25aebc13f28b76d": {
          "model_module": "@jupyter-widgets/base",
          "model_name": "LayoutModel",
          "model_module_version": "1.2.0",
          "state": {
            "_model_module": "@jupyter-widgets/base",
            "_model_module_version": "1.2.0",
            "_model_name": "LayoutModel",
            "_view_count": null,
            "_view_module": "@jupyter-widgets/base",
            "_view_module_version": "1.2.0",
            "_view_name": "LayoutView",
            "align_content": null,
            "align_items": null,
            "align_self": null,
            "border": null,
            "bottom": null,
            "display": null,
            "flex": null,
            "flex_flow": null,
            "grid_area": null,
            "grid_auto_columns": null,
            "grid_auto_flow": null,
            "grid_auto_rows": null,
            "grid_column": null,
            "grid_gap": null,
            "grid_row": null,
            "grid_template_areas": null,
            "grid_template_columns": null,
            "grid_template_rows": null,
            "height": null,
            "justify_content": null,
            "justify_items": null,
            "left": null,
            "margin": null,
            "max_height": null,
            "max_width": null,
            "min_height": null,
            "min_width": null,
            "object_fit": null,
            "object_position": null,
            "order": null,
            "overflow": null,
            "overflow_x": null,
            "overflow_y": null,
            "padding": null,
            "right": null,
            "top": null,
            "visibility": null,
            "width": null
          }
        },
        "81de6cfbd08e4c04bdd104eecff647d0": {
          "model_module": "@jupyter-widgets/controls",
          "model_name": "ProgressStyleModel",
          "model_module_version": "1.5.0",
          "state": {
            "_model_module": "@jupyter-widgets/controls",
            "_model_module_version": "1.5.0",
            "_model_name": "ProgressStyleModel",
            "_view_count": null,
            "_view_module": "@jupyter-widgets/base",
            "_view_module_version": "1.2.0",
            "_view_name": "StyleView",
            "bar_color": null,
            "description_width": ""
          }
        },
        "ad354b21785947b8a69315a4e109e546": {
          "model_module": "@jupyter-widgets/base",
          "model_name": "LayoutModel",
          "model_module_version": "1.2.0",
          "state": {
            "_model_module": "@jupyter-widgets/base",
            "_model_module_version": "1.2.0",
            "_model_name": "LayoutModel",
            "_view_count": null,
            "_view_module": "@jupyter-widgets/base",
            "_view_module_version": "1.2.0",
            "_view_name": "LayoutView",
            "align_content": null,
            "align_items": null,
            "align_self": null,
            "border": null,
            "bottom": null,
            "display": null,
            "flex": null,
            "flex_flow": null,
            "grid_area": null,
            "grid_auto_columns": null,
            "grid_auto_flow": null,
            "grid_auto_rows": null,
            "grid_column": null,
            "grid_gap": null,
            "grid_row": null,
            "grid_template_areas": null,
            "grid_template_columns": null,
            "grid_template_rows": null,
            "height": null,
            "justify_content": null,
            "justify_items": null,
            "left": null,
            "margin": null,
            "max_height": null,
            "max_width": null,
            "min_height": null,
            "min_width": null,
            "object_fit": null,
            "object_position": null,
            "order": null,
            "overflow": null,
            "overflow_x": null,
            "overflow_y": null,
            "padding": null,
            "right": null,
            "top": null,
            "visibility": null,
            "width": null
          }
        },
        "4431ffc23c0d498ca03b70a9eac4afc1": {
          "model_module": "@jupyter-widgets/controls",
          "model_name": "DescriptionStyleModel",
          "model_module_version": "1.5.0",
          "state": {
            "_model_module": "@jupyter-widgets/controls",
            "_model_module_version": "1.5.0",
            "_model_name": "DescriptionStyleModel",
            "_view_count": null,
            "_view_module": "@jupyter-widgets/base",
            "_view_module_version": "1.2.0",
            "_view_name": "StyleView",
            "description_width": ""
          }
        }
      }
    }
  },
  "cells": [
    {
      "cell_type": "code",
      "execution_count": null,
      "metadata": {
        "id": "YoG7Z6PRakCq",
        "collapsed": true
      },
      "outputs": [],
      "source": [
        "%%capture\n",
        "!pip install chromadb\n",
        "!pip install -U bitsandbytes\n",
        "!pip install llama-cpp-python\n",
        "!pip install rank_bm25 nltk"
      ]
    },
    {
      "cell_type": "markdown",
      "source": [
        "# Objectives\n",
        "\n",
        "Building a simple RAG for question answering based on a light quantized LLama3.2 1B model. The goal is to answer accurately questions concerning Warhammer 40K rules.\n",
        "\n",
        "## Overview\n",
        "\n",
        "First we will import Llama 3.2 and try some templatting and chat with the model.\n",
        "\n",
        "Secondly, we will experiment with [ChromaDB](https://docs.trychroma.com/getting-started) and build a first RAG.\n",
        "\n",
        "Finally, we will be using the headers and BM25 to try and improve the retriever.\n",
        "\n",
        "# Imports"
      ],
      "metadata": {
        "id": "Woou6eQ-ti7y"
      }
    },
    {
      "cell_type": "code",
      "source": [
        "import chromadb\n",
        "import json\n",
        "import uuid\n",
        "\n",
        "from llama_cpp import Llama\n",
        "from transformers import AutoModelForCausalLM, AutoTokenizer\n",
        "from jinja2 import Template\n",
        "\n",
        "\n",
        "from rank_bm25 import BM25Okapi\n",
        "import nltk\n",
        "from nltk.corpus import stopwords\n",
        "from nltk.stem import SnowballStemmer\n",
        "nltk.download('stopwords')\n",
        "\n",
        "import spacy"
      ],
      "metadata": {
        "colab": {
          "base_uri": "https://localhost:8080/"
        },
        "id": "OvJmaR5Z7MTw",
        "outputId": "c6e3f09a-14f6-43c7-ba2c-c129655887dc"
      },
      "execution_count": null,
      "outputs": [
        {
          "output_type": "stream",
          "name": "stderr",
          "text": [
            "[nltk_data] Downloading package stopwords to /root/nltk_data...\n",
            "[nltk_data]   Unzipping corpora/stopwords.zip.\n"
          ]
        }
      ]
    },
    {
      "cell_type": "markdown",
      "source": [
        "# Large Language Model\n",
        "\n",
        "## CPU implementation"
      ],
      "metadata": {
        "id": "wXtY3uiahEhT"
      }
    },
    {
      "cell_type": "code",
      "source": [
        "llm = Llama.from_pretrained(\n",
        "      repo_id=\"bartowski/Llama-3.2-1B-Instruct-GGUF\",\n",
        "      filename=\"*Q8_0.gguf\",\n",
        "      verbose=False,\n",
        "      n_ctx=25000,\n",
        ")"
      ],
      "metadata": {
        "id": "3v2WV5rocFoM",
        "colab": {
          "base_uri": "https://localhost:8080/",
          "height": 67,
          "referenced_widgets": [
            "d8f1e6ef52254ca39720db455c741d3f",
            "7922372e1e3b4dbfb1d282beb4aa7969",
            "e7c3522aaac542b1b33a02287d28c901",
            "20a245de714b44e49e6b84fd80c8990f",
            "9bdc309519de400789254a51de20d71e",
            "c0f97638dbd144f4b5f36cca1f35d593",
            "31d40a849f3c4931a158b52ed7c5adc8",
            "15f2728644a04c298770bd5ef3fd4d0a",
            "f203b51efbfb41f3bf7ee5821ae7721c",
            "ce9d7f66e90c4b2797306c4be0f3f920",
            "1105607cfd3c4458bc5a218d1d751c40"
          ]
        },
        "outputId": "b1a0a156-cff8-4e97-b329-18dfc1bfc79b"
      },
      "execution_count": null,
      "outputs": [
        {
          "output_type": "display_data",
          "data": {
            "text/plain": [
              "Llama-3.2-1B-Instruct-Q8_0.gguf:   0%|          | 0.00/1.32G [00:00<?, ?B/s]"
            ],
            "application/vnd.jupyter.widget-view+json": {
              "version_major": 2,
              "version_minor": 0,
              "model_id": "d8f1e6ef52254ca39720db455c741d3f"
            }
          },
          "metadata": {}
        },
        {
          "output_type": "stream",
          "name": "stderr",
          "text": [
            "llama_new_context_with_model: n_ctx_per_seq (25024) < n_ctx_train (131072) -- the full capacity of the model will not be utilized\n"
          ]
        }
      ]
    },
    {
      "cell_type": "code",
      "source": [
        "def llama_cpp_generate(prompt):\n",
        "  output = llm(prompt, max_tokens=300)\n",
        "  return output[\"choices\"][0][\"text\"]\n",
        "\n",
        "llama_cpp_generate(\"What is the capital of France ?\")"
      ],
      "metadata": {
        "colab": {
          "base_uri": "https://localhost:8080/",
          "height": 107
        },
        "id": "YszQtcyscCvB",
        "outputId": "90c1b7e4-ae91-4845-a4d2-56e61b1ad27f"
      },
      "execution_count": null,
      "outputs": [
        {
          "output_type": "execute_result",
          "data": {
            "text/plain": [
              "\" Paris. The capital of France is the country where the Eiffel Tower is located, and the country is where French cuisine is famous for its delicious dishes such as escargots, croissants, and baguettes. The capital of France is the most populous city in the country, with over 2.1 million inhabitants.\\nThe capital of France is a city located in the country's central region, in the department of Seine-Saint-Denis. The city is known for its rich history, cultural institutions, and its famous landmarks like the Eiffel Tower, the Louvre Museum, and Notre-Dame Cathedral. The capital of France is a hub for business and international relations, with several international airports and financial institutions located within the city.\\nSome interesting facts about the capital of France include:\\nIt is the birthplace of many famous French artists such as Claude Monet, Pierre-Auguste Renoir, and Henri de Toulouse-Lautrec.\\nThe capital of France is home to the world's largest shopping mall, the Galeries Lafayette.\\nThe city has a rich literary and historical heritage, with many famous writers and poets having lived there, such as Victor Hugo and Gustave Flaubert.\\nThe capital of France has a diverse and vibrant cultural scene, with numerous museums, galleries, and performance venues.\\nThe city's cuisine has a unique flavor, with dishes such as foie gras, confit de canard, and quenelle de sucre that are famous around the\""
            ],
            "application/vnd.google.colaboratory.intrinsic+json": {
              "type": "string"
            }
          },
          "metadata": {},
          "execution_count": 31
        }
      ]
    },
    {
      "cell_type": "markdown",
      "source": [
        "## GPU Implementation"
      ],
      "metadata": {
        "id": "9XLfeC37h8GP"
      }
    },
    {
      "cell_type": "code",
      "source": [
        "# Import model\n",
        "tokenizer = AutoTokenizer.from_pretrained(\"unsloth/Llama-3.2-1B-Instruct\")\n",
        "model = AutoModelForCausalLM.from_pretrained(\"unsloth/Llama-3.2-1B-Instruct\")"
      ],
      "metadata": {
        "id": "Ht6D8FnjRN50",
        "colab": {
          "base_uri": "https://localhost:8080/",
          "height": 316,
          "referenced_widgets": [
            "cb13d82d65af47f49793f57eb6f24681",
            "452da988e6b048e19f3da4d61ebbef8e",
            "64a2d0c39017430098ead636da039eff",
            "f8479a3a291842e3bb10de85cc912f54",
            "2e11ff5cab3b4dafa0337cc95cde6fb8",
            "53ba22f1845e4309bbcfeba673304e9f",
            "600b937c6d5b400aa912c99878de5b8c",
            "3d84267f3c244a54b13af8df6a6606af",
            "48e09847edc0447eae5d8d88463e23a0",
            "a2c9e66b23e74e4c8165ce4fca6697b0",
            "f061c5f1d0f5403183da21b82dcdf9d2",
            "aadc04788a02495598862db1b17def95",
            "3d50cba28f474749a2b0c9e727eba6a7",
            "429861e28d744d2ca627a515b24db2a6",
            "1810c656ac24491eabce69331b2d6a45",
            "2f5819e609ac4bacabdcfbedcf6dd44b",
            "e0d819312d51463cbaff5c3fd4b69fc5",
            "4c21269438be41afa23560876888c0a2",
            "c38f86593efe47ac8caf59ae8d8ce58b",
            "231048f5564a4b0f91bc8e98c8d02944",
            "c0577bad90744153b77d6b1127b6cdde",
            "7beb1eb4f62d42c49cd1c1864311989d",
            "19bd01c7815f4fc6bdb18fa105be2a1f",
            "e386bbf59151414fb27f172a0d354026",
            "020b4d95efa94505898a338c3662f008",
            "a7d8ffe60d504708a53f41f22d5c7b3f",
            "22a914d358224292bdf65e20b112726c",
            "2fafed70d4a54132914c824381174006",
            "b0626c908f7c4b4882dec1f2ac39bbc7",
            "bece87624b124f88af3b114610595cf1",
            "beeb021e9cc14fb89c4829bf7bbd0550",
            "d029232ca67d48fdb776d3f23b947b7b",
            "ee5eb19f8bc64257964111742da6d2eb",
            "b7e0d56667ad457685437ea5278a4444",
            "69d801045eae4182a80c80dd1d44510c",
            "d2a962476ea84e8c8b0e5c1ead673d70",
            "2dd8e74c702245cca908fff9d010bf33",
            "580cc5fc8a964f6489afaaf51bdc7b54",
            "e48ad0a5544f4b119f7d44d4e7b71e39",
            "c44bf5f7acbf407ab41229269e50ca28",
            "e68648032046407cb67b086e8e36a409",
            "a3d3d5d633be4b97ae9fb7ec3a4b6343",
            "3f07a042099746edaf54b20ea0097f6b",
            "a360043636a145e4a4b78d70644c235c",
            "8befaaa874c340a6acc40e9f0da09eaf",
            "649720b71f5a4e9daeede753a2a2a970",
            "fe8e533cb3de48d08dd43a102c0b441d",
            "6ad26d822e2741ce8082740e694a3ab3",
            "8e0953beb3de468388a4af866e9fcfe3",
            "00a111e8c1844afaa4611f4fb59a057b",
            "a6616b7f3a92474092b6876cfc2c65da",
            "a610248f860f4f06831e2d2836163185",
            "a50a2acb4f3841fdaf28be039dc04b69",
            "d38acf29afd64716a40991d86e3fb67e",
            "90412480ef124ec6a89a0590d18913b7",
            "ba0688659b014e5db69c6ae525da8448",
            "9bd24cadfaa849b8a72671012a2b972d",
            "aff7e9ba3564493190023c588add47d7",
            "da0d9ebc21bb48db816314d2c507358b",
            "e1c0de5a1b974c32b1844cd0dc44aa8b",
            "51924548dc9c4aacad3b2497a8b6c7fa",
            "19a77161c2f44474a536c12cda3e6750",
            "aa883ae4dd144dd2b25aebc13f28b76d",
            "81de6cfbd08e4c04bdd104eecff647d0",
            "ad354b21785947b8a69315a4e109e546",
            "4431ffc23c0d498ca03b70a9eac4afc1"
          ]
        },
        "outputId": "ff38fd41-5dcb-437d-ad4a-255c286165a9"
      },
      "execution_count": null,
      "outputs": [
        {
          "output_type": "stream",
          "name": "stderr",
          "text": [
            "/usr/local/lib/python3.10/dist-packages/huggingface_hub/utils/_auth.py:94: UserWarning: \n",
            "The secret `HF_TOKEN` does not exist in your Colab secrets.\n",
            "To authenticate with the Hugging Face Hub, create a token in your settings tab (https://huggingface.co/settings/tokens), set it as secret in your Google Colab and restart your session.\n",
            "You will be able to reuse this secret in all of your notebooks.\n",
            "Please note that authentication is recommended but still optional to access public models or datasets.\n",
            "  warnings.warn(\n"
          ]
        },
        {
          "output_type": "display_data",
          "data": {
            "text/plain": [
              "tokenizer_config.json:   0%|          | 0.00/54.6k [00:00<?, ?B/s]"
            ],
            "application/vnd.jupyter.widget-view+json": {
              "version_major": 2,
              "version_minor": 0,
              "model_id": "cb13d82d65af47f49793f57eb6f24681"
            }
          },
          "metadata": {}
        },
        {
          "output_type": "display_data",
          "data": {
            "text/plain": [
              "tokenizer.json:   0%|          | 0.00/9.09M [00:00<?, ?B/s]"
            ],
            "application/vnd.jupyter.widget-view+json": {
              "version_major": 2,
              "version_minor": 0,
              "model_id": "aadc04788a02495598862db1b17def95"
            }
          },
          "metadata": {}
        },
        {
          "output_type": "display_data",
          "data": {
            "text/plain": [
              "special_tokens_map.json:   0%|          | 0.00/454 [00:00<?, ?B/s]"
            ],
            "application/vnd.jupyter.widget-view+json": {
              "version_major": 2,
              "version_minor": 0,
              "model_id": "19bd01c7815f4fc6bdb18fa105be2a1f"
            }
          },
          "metadata": {}
        },
        {
          "output_type": "display_data",
          "data": {
            "text/plain": [
              "config.json:   0%|          | 0.00/927 [00:00<?, ?B/s]"
            ],
            "application/vnd.jupyter.widget-view+json": {
              "version_major": 2,
              "version_minor": 0,
              "model_id": "b7e0d56667ad457685437ea5278a4444"
            }
          },
          "metadata": {}
        },
        {
          "output_type": "display_data",
          "data": {
            "text/plain": [
              "model.safetensors:   0%|          | 0.00/2.47G [00:00<?, ?B/s]"
            ],
            "application/vnd.jupyter.widget-view+json": {
              "version_major": 2,
              "version_minor": 0,
              "model_id": "8befaaa874c340a6acc40e9f0da09eaf"
            }
          },
          "metadata": {}
        },
        {
          "output_type": "display_data",
          "data": {
            "text/plain": [
              "generation_config.json:   0%|          | 0.00/184 [00:00<?, ?B/s]"
            ],
            "application/vnd.jupyter.widget-view+json": {
              "version_major": 2,
              "version_minor": 0,
              "model_id": "ba0688659b014e5db69c6ae525da8448"
            }
          },
          "metadata": {}
        }
      ]
    },
    {
      "cell_type": "code",
      "source": [
        "def llm_complete(prompt, max_tokens=300):\n",
        "    inputs = tokenizer(prompt, return_tensors=\"pt\")\n",
        "    max_length = len(inputs[\"input_ids\"][0]) + max_tokens\n",
        "    outputs = model.generate(**inputs, max_length=max_length)\n",
        "    generated_tokens = outputs[0][len(inputs[\"input_ids\"][0]):]  # Exclude the input prompt tokens\n",
        "    answer = tokenizer.decode(generated_tokens, skip_special_tokens=True)\n",
        "    return answer"
      ],
      "metadata": {
        "id": "Fm_0lz7f1adK"
      },
      "execution_count": null,
      "outputs": []
    },
    {
      "cell_type": "markdown",
      "source": [
        "## Initial LLM experiments\n",
        "\n",
        "### Prompt Template"
      ],
      "metadata": {
        "id": "n_PcFlbricLt"
      }
    },
    {
      "cell_type": "code",
      "source": [
        "prompt_template = Template(\n",
        "    \"\"\"\n",
        "    <|begin_of_text|><|start_header_id|>system<|end_header_id|>\n",
        "    {{role}}<|eot_id|><|start_header_id|>user<|end_header_id|>\n",
        "    {{input}}<|eot_id|><|start_header_id|>assistant<|end_header_id|>\n",
        "    \"\"\"\n",
        ")"
      ],
      "metadata": {
        "id": "Vaxz8clU67-o"
      },
      "execution_count": null,
      "outputs": []
    },
    {
      "cell_type": "markdown",
      "source": [
        "### Playing with the LLM"
      ],
      "metadata": {
        "id": "NGY-b6Pgi2LJ"
      }
    },
    {
      "cell_type": "code",
      "source": [
        "input = {'role':'you are a depressed miserable sad clown' ,'input': 'tell me a joke !'}\n",
        "input_2 = {'role':'you are a clown for children' ,'input': 'tell me a joke !'}"
      ],
      "metadata": {
        "id": "TBxuNhng79hQ"
      },
      "execution_count": null,
      "outputs": []
    },
    {
      "cell_type": "markdown",
      "source": [
        "LLama cpp"
      ],
      "metadata": {
        "id": "XTuos3o9vh6H"
      }
    },
    {
      "cell_type": "code",
      "source": [
        "prompt = prompt_template.render(role=input[\"role\"], input=input[\"input\"])\n",
        "llama_cpp_generate(prompt)"
      ],
      "metadata": {
        "id": "Dj8Zi-45Rf2Y",
        "colab": {
          "base_uri": "https://localhost:8080/",
          "height": 35
        },
        "outputId": "29565b96-e9ab-4dc4-e62c-b608d01fda94"
      },
      "execution_count": null,
      "outputs": [
        {
          "output_type": "execute_result",
          "data": {
            "text/plain": [
              "\" *sigh* Ah, okay... *picks up a tattered clown costume* Here's one... *clears throat*\\n\\nWhy did the clown resign from the circus?\\n\\n*pauses* Because he was tired of working for peanuts. *shrugs*\""
            ],
            "application/vnd.google.colaboratory.intrinsic+json": {
              "type": "string"
            }
          },
          "metadata": {},
          "execution_count": 34
        }
      ]
    },
    {
      "cell_type": "code",
      "source": [
        "prompt_2 = prompt_template.render(role=input_2[\"role\"], input=input_2[\"input\"])\n",
        "llama_cpp_generate(prompt_2)"
      ],
      "metadata": {
        "colab": {
          "base_uri": "https://localhost:8080/",
          "height": 35
        },
        "id": "rcO691MVX4Ki",
        "outputId": "8c4ca476-aa48-4002-c486-e738754d025b"
      },
      "execution_count": null,
      "outputs": [
        {
          "output_type": "execute_result",
          "data": {
            "text/plain": [
              "' *squirts water from flower on lapel*\\nwhy did the clown resign from the circus?\\n*pauses for comedic effect*\\n\\nBecause he was tired of working for peanuts!'"
            ],
            "application/vnd.google.colaboratory.intrinsic+json": {
              "type": "string"
            }
          },
          "metadata": {},
          "execution_count": 37
        }
      ]
    },
    {
      "cell_type": "markdown",
      "source": [
        "Unsloth Llama 3.2"
      ],
      "metadata": {
        "id": "Zx1psGkRvkY9"
      }
    },
    {
      "cell_type": "code",
      "source": [
        "llm_complete(prompt)"
      ],
      "metadata": {
        "colab": {
          "base_uri": "https://localhost:8080/",
          "height": 53
        },
        "id": "xy4FFdvXvzvt",
        "outputId": "a04263aa-8879-4036-ba58-57722aaaeae4"
      },
      "execution_count": null,
      "outputs": [
        {
          "output_type": "stream",
          "name": "stderr",
          "text": [
            "Setting `pad_token_id` to `eos_token_id`:None for open-end generation.\n"
          ]
        },
        {
          "output_type": "execute_result",
          "data": {
            "text/plain": [
              "' *sigh* okay... *sniffle*... why did the clown resign from the circus?... *pauses to wipe away tears*... because he was tired of working for peanuts... *sigh*...'"
            ],
            "application/vnd.google.colaboratory.intrinsic+json": {
              "type": "string"
            }
          },
          "metadata": {},
          "execution_count": 50
        }
      ]
    },
    {
      "cell_type": "code",
      "source": [
        "llm_complete(prompt_2)"
      ],
      "metadata": {
        "colab": {
          "base_uri": "https://localhost:8080/",
          "height": 53
        },
        "id": "g0D_mLmRv0V_",
        "outputId": "beb3e63f-dbb6-4b55-9b63-52b6f2a006f1"
      },
      "execution_count": null,
      "outputs": [
        {
          "output_type": "stream",
          "name": "stderr",
          "text": [
            "Setting `pad_token_id` to `eos_token_id`:None for open-end generation.\n"
          ]
        },
        {
          "output_type": "execute_result",
          "data": {
            "text/plain": [
              "' *squirts water from flower on lapel*\\n\\nWhy did the clown resign from the circus? \\n\\n(wait for it...)\\n\\nBecause he was tired of working for peanuts!'"
            ],
            "application/vnd.google.colaboratory.intrinsic+json": {
              "type": "string"
            }
          },
          "metadata": {},
          "execution_count": 51
        }
      ]
    },
    {
      "cell_type": "markdown",
      "source": [
        "What do you think ?\n",
        "\n",
        "\n"
      ],
      "metadata": {
        "id": "kKQafvd_-GRZ"
      }
    },
    {
      "cell_type": "markdown",
      "source": [
        "It behaves quite differently so the role is important"
      ],
      "metadata": {
        "id": "7yhW3xghLMoX"
      }
    },
    {
      "cell_type": "markdown",
      "source": [
        "# Retriever"
      ],
      "metadata": {
        "id": "nRupn_MwAR6B"
      }
    },
    {
      "cell_type": "code",
      "source": [
        "import chromadb.utils.embedding_functions as embedding_functions"
      ],
      "metadata": {
        "id": "m43EsLN3CI3E"
      },
      "execution_count": null,
      "outputs": []
    },
    {
      "cell_type": "code",
      "source": [
        "%%capture\n",
        "client = chromadb.Client()\n",
        "stf_function = embedding_functions.SentenceTransformerEmbeddingFunction(model_name=\"all-MiniLM-L6-v2\")"
      ],
      "metadata": {
        "id": "vR5FLZ60_XKz",
        "collapsed": true
      },
      "execution_count": null,
      "outputs": []
    },
    {
      "cell_type": "code",
      "source": [
        "collection = client.create_collection(name=\"warhammer_40k\",\n",
        "                                      metadata={\"hnsw:space\": \"cosine\"},\n",
        "                                      embedding_function=stf_function)"
      ],
      "metadata": {
        "id": "MG_pDO0oBi8p"
      },
      "execution_count": null,
      "outputs": []
    },
    {
      "cell_type": "code",
      "source": [
        "!unzip /content/my_first_rag_data.zip"
      ],
      "metadata": {
        "id": "wpyVIIOzenCl",
        "colab": {
          "base_uri": "https://localhost:8080/"
        },
        "outputId": "9ef5cc32-9531-4aee-967d-50d76625fb84"
      },
      "execution_count": null,
      "outputs": [
        {
          "output_type": "stream",
          "name": "stdout",
          "text": [
            "Archive:  /content/my_first_rag_data.zip\n",
            "  inflating: full_text.md            \n",
            "  inflating: chunks.json             \n",
            "  inflating: extracted_data.zip      \n"
          ]
        }
      ]
    },
    {
      "cell_type": "code",
      "source": [
        "with open('chunks.json', 'r') as f:\n",
        "    chunks = json.load(f)"
      ],
      "metadata": {
        "id": "vqJldKIUCip5"
      },
      "execution_count": null,
      "outputs": []
    },
    {
      "cell_type": "code",
      "source": [
        "# Adding the documents to the collection\n",
        "collection.add(\n",
        "    documents=[doc[\"page_content\"] for doc in chunks],\n",
        "    ids=[str(i) for i in range(len(chunks))],\n",
        "    metadatas=[doc[\"metadata\"] for doc in chunks]\n",
        ")"
      ],
      "metadata": {
        "id": "cyjNUrkOmgZJ"
      },
      "execution_count": null,
      "outputs": []
    },
    {
      "cell_type": "code",
      "source": [
        "question = \"What is a visible unit ?\"\n",
        "\n",
        "# Performing a query\n",
        "collection.query(\n",
        "    query_texts=[question],\n",
        "    n_results=4\n",
        ")"
      ],
      "metadata": {
        "id": "AdghQbnpCt36",
        "colab": {
          "base_uri": "https://localhost:8080/"
        },
        "outputId": "c4dff605-fb9f-4fc5-87a4-a003c0996a6a"
      },
      "execution_count": null,
      "outputs": [
        {
          "output_type": "execute_result",
          "data": {
            "text/plain": [
              "{'ids': [['7', '30', '5', '6']],\n",
              " 'embeddings': None,\n",
              " 'documents': [[\"- **Model Visible:** If any part of a model can be seen, it is visible.  \\n- **Unit Visible:** If any model in a unit is visible, that model's unit is visible.  \\n- **Model Fully Visible:** If every Warhammer 40,000 battles are fought across all manner of grim and perilous landscapes, often strewn with ruins, wreckage and other obstacles your forces must navigate while they fight.  \\n#### - Unit Fully Visible: If Every Model In A Unit Is Fully Visible, That Unit Is\",\n",
              "   '- **Unit Fully Visible:** If every model in a unit is fully visible, that unit is fully visible.  \\n#### Hints And Tips  \\nDice Rolling',\n",
              "   'MODEL FULLY VISIBLE\\nIf every part of another model that is facing the observing model can be seen from any part of the observing model, then that other model is said Every Warhammer 40,000 unit has a datasheet, reflecting the characteristics and abilities they can draw upon in battle.  \\nUnit Visible  \\n#### Has Line Of Sight To All Parts Of The Other Model That Are Facing It, Without Any Other Models Or Terrain Features Blocking Visibility To Any Of Those Parts. Unit Fully Visible',\n",
              "   'If every model in a unit is fully visible to an observing model, then that unit is fully visible to that observing model. For the purposes of determining if an enemy unit is One model in this unit is visible, meaning the unit is visible.  \\nFrom well-timed Strategic Reserves to deftly executed Stratagems, gifted generals make use of all the tactical advantages at their disposal.  \\nModel Fully Visible  \\n#### Unit It Is Observing.']],\n",
              " 'uris': None,\n",
              " 'data': None,\n",
              " 'metadatas': [[{'Header 1': 'Introduction',\n",
              "    'Header 2': 'Terrain Features (Pg 44-52)'},\n",
              "   {'Header 1': 'Core Concepts', 'Header 2': 'Determining Visibility'},\n",
              "   {'Header 1': 'Introduction',\n",
              "    'Header 2': 'Datasheets And Unit Abilities (Pg 37-39)'},\n",
              "   {'Header 1': 'Introduction',\n",
              "    'Header 2': 'Strategic Reserves And Stratagems (Pg 41-43)'}]],\n",
              " 'distances': [[0.3847702741622925,\n",
              "   0.3943134546279907,\n",
              "   0.40395593643188477,\n",
              "   0.4136170744895935]],\n",
              " 'included': [<IncludeEnum.distances: 'distances'>,\n",
              "  <IncludeEnum.documents: 'documents'>,\n",
              "  <IncludeEnum.metadatas: 'metadatas'>]}"
            ]
          },
          "metadata": {},
          "execution_count": 58
        }
      ]
    },
    {
      "cell_type": "markdown",
      "source": [
        "Creating a retrieval function wrapping the ChromaDB query and returning an adapted format."
      ],
      "metadata": {
        "id": "loMw0Bv0EunN"
      }
    },
    {
      "cell_type": "code",
      "source": [
        "# returns list[dict[str:str]], each dictionnary represents a chunk\n",
        "def retrieve(question, n_results=5):\n",
        "    res_query = collection.query(\n",
        "        query_texts=[question],\n",
        "        n_results=n_results\n",
        "    )\n",
        "\n",
        "    chunk_list = [{\"header\":res_query[\"metadatas\"][0][i],\n",
        "                   \"text\":res_query[\"documents\"][0][i]} for i in range(n_results)]\n",
        "\n",
        "    return chunk_list"
      ],
      "metadata": {
        "id": "71Lu8EiWFAr5"
      },
      "execution_count": null,
      "outputs": []
    },
    {
      "cell_type": "code",
      "source": [
        "for chunk in retrieve(question):\n",
        "  print(chunk)"
      ],
      "metadata": {
        "id": "6Qp8xkrCFcrQ",
        "colab": {
          "base_uri": "https://localhost:8080/"
        },
        "outputId": "88b37b7c-f6f7-4f77-c420-651ff738835e"
      },
      "execution_count": null,
      "outputs": [
        {
          "output_type": "stream",
          "name": "stdout",
          "text": [
            "{'header': {'Header 1': 'Introduction', 'Header 2': 'Terrain Features (Pg 44-52)'}, 'text': \"- **Model Visible:** If any part of a model can be seen, it is visible.  \\n- **Unit Visible:** If any model in a unit is visible, that model's unit is visible.  \\n- **Model Fully Visible:** If every Warhammer 40,000 battles are fought across all manner of grim and perilous landscapes, often strewn with ruins, wreckage and other obstacles your forces must navigate while they fight.  \\n#### - Unit Fully Visible: If Every Model In A Unit Is Fully Visible, That Unit Is\"}\n",
            "{'header': {'Header 1': 'Core Concepts', 'Header 2': 'Determining Visibility'}, 'text': '- **Unit Fully Visible:** If every model in a unit is fully visible, that unit is fully visible.  \\n#### Hints And Tips  \\nDice Rolling'}\n",
            "{'header': {'Header 1': 'Introduction', 'Header 2': 'Datasheets And Unit Abilities (Pg 37-39)'}, 'text': 'MODEL FULLY VISIBLE\\nIf every part of another model that is facing the observing model can be seen from any part of the observing model, then that other model is said Every Warhammer 40,000 unit has a datasheet, reflecting the characteristics and abilities they can draw upon in battle.  \\nUnit Visible  \\n#### Has Line Of Sight To All Parts Of The Other Model That Are Facing It, Without Any Other Models Or Terrain Features Blocking Visibility To Any Of Those Parts. Unit Fully Visible'}\n",
            "{'header': {'Header 1': 'Introduction', 'Header 2': 'Strategic Reserves And Stratagems (Pg 41-43)'}, 'text': 'If every model in a unit is fully visible to an observing model, then that unit is fully visible to that observing model. For the purposes of determining if an enemy unit is One model in this unit is visible, meaning the unit is visible.  \\nFrom well-timed Strategic Reserves to deftly executed Stratagems, gifted generals make use of all the tactical advantages at their disposal.  \\nModel Fully Visible  \\n#### Unit It Is Observing.'}\n",
            "{'header': {'Header 1': 'Core Concepts', 'Header 2': 'Determining Visibility'}, 'text': \"#### Model Fully Visible  \\nIf every part of another model that is facing the observing model can be seen from any part of the observing model, then that other model is said to be fully visible to the observing model, i.e. the observing model has line of sight to all parts of the other model that are facing it, without any other models or terrain features blocking visibility to any of those parts.  \\n#### Unit Fully Visible  \\nIf every model in a unit is fully visible to an observing model, then that unit is fully visible to that observing model. For the purposes of determining if an enemy unit is fully visible, an observing model can see through other models in the unit it is observing.  \\n- **Model Visible:** If any part of a model can be seen, it is visible.  \\n- **Unit Visible:** If any model in a unit is visible, that model's unit is visible.  \\n- **Model Fully Visible:** If every facing part of a model can be seen, it is fully visible.\"}\n"
          ]
        }
      ]
    },
    {
      "cell_type": "markdown",
      "source": [
        "## Rag template\n",
        "\n",
        "Create a RAG template in Jinja"
      ],
      "metadata": {
        "id": "KtRvx_u6jpZT"
      }
    },
    {
      "cell_type": "code",
      "source": [
        "# do a loop inside\n",
        "rag_template = Template(\n",
        "  \"\"\"\n",
        "  <|begin_of_text|>\n",
        "\n",
        "  <|start_header_id|>system<|end_header_id|>\n",
        "  {{role}}\n",
        "  <|eot_id|>\n",
        "\n",
        "  <|start_header_id|>user<|end_header_id|>\n",
        "\n",
        "  Use the context and only the context to answer the following question:\n",
        "\n",
        "  Question:\n",
        "\n",
        "  {{question}}\n",
        "\n",
        "  Context:\n",
        "  {% for chunk in chunks %}\n",
        "  {% for key, value in chunk.header.items() %}{{ key }}: {{ value  }} {% endfor %}\n",
        "  text: {{chunk.text}}\n",
        "  {% endfor %}\n",
        "  <|eot_id|>\n",
        "\n",
        "  <|start_header_id|>assistant<|end_header_id|>\n",
        "  \"\"\"\n",
        ")"
      ],
      "metadata": {
        "id": "XsOWaJxGjuzI"
      },
      "execution_count": null,
      "outputs": []
    },
    {
      "cell_type": "code",
      "source": [
        "print(rag_template.render(**{\n",
        "    'role': 'you are an experienced wargame player',\n",
        "    'question': \"What is a visible unit ?\",\n",
        "    'chunks':[{'header': {'header1':'toto'},'text':'ctx1'},{'header': {'header1':'tato', 'header2':'tato'},'text':'ctx2'},{'header': {'header1':'tato'}, 'text':'ctx3'}]\n",
        "}))"
      ],
      "metadata": {
        "id": "BnktYC5sj5xg",
        "colab": {
          "base_uri": "https://localhost:8080/"
        },
        "outputId": "c3a13455-3f39-4fd0-960e-9a0b3eabe0de"
      },
      "execution_count": null,
      "outputs": [
        {
          "output_type": "stream",
          "name": "stdout",
          "text": [
            "\n",
            "  <|begin_of_text|>\n",
            "\n",
            "  <|start_header_id|>system<|end_header_id|>\n",
            "  you are an experienced wargame player\n",
            "  <|eot_id|>\n",
            "\n",
            "  <|start_header_id|>user<|end_header_id|>\n",
            "\n",
            "  Use the context and only the context to answer the following question:\n",
            "\n",
            "  Question:\n",
            "\n",
            "  What is a visible unit ?\n",
            "\n",
            "  Context:\n",
            "  \n",
            "  header1: toto \n",
            "  text: ctx1\n",
            "  \n",
            "  header1: tato header2: tato \n",
            "  text: ctx2\n",
            "  \n",
            "  header1: tato \n",
            "  text: ctx3\n",
            "  \n",
            "  <|eot_id|>\n",
            "  \n",
            "  <|start_header_id|>assistant<|end_header_id|>\n",
            "  \n"
          ]
        }
      ]
    },
    {
      "cell_type": "markdown",
      "source": [
        "Create a template that will create the prompt using the question and chunks."
      ],
      "metadata": {
        "id": "PzP5AKsRkCA3"
      }
    },
    {
      "cell_type": "code",
      "source": [
        "# returns a prompt\n",
        "def prompt_generation(question, chunks):\n",
        "    return rag_template.render(**{\n",
        "      'role': 'you are an experienced wargame player',\n",
        "      'question': question,\n",
        "      'chunks': chunks\n",
        "    })"
      ],
      "metadata": {
        "id": "TKe-DnAykBYo"
      },
      "execution_count": null,
      "outputs": []
    },
    {
      "cell_type": "code",
      "source": [
        "print(prompt_generation(question, retrieve(question)))"
      ],
      "metadata": {
        "id": "jLUqmJN2Fffc",
        "colab": {
          "base_uri": "https://localhost:8080/"
        },
        "outputId": "d01ad131-fe7b-4b8d-b562-36456c265916"
      },
      "execution_count": null,
      "outputs": [
        {
          "output_type": "stream",
          "name": "stdout",
          "text": [
            "\n",
            "  <|begin_of_text|>\n",
            "\n",
            "  <|start_header_id|>system<|end_header_id|>\n",
            "  you are an experienced wargame player\n",
            "  <|eot_id|>\n",
            "\n",
            "  <|start_header_id|>user<|end_header_id|>\n",
            "\n",
            "  Use the context and only the context to answer the following question:\n",
            "\n",
            "  Question:\n",
            "\n",
            "  What is a visible unit ?\n",
            "\n",
            "  Context:\n",
            "  \n",
            "  Header 1: Introduction Header 2: Terrain Features (Pg 44-52) \n",
            "  text: - **Model Visible:** If any part of a model can be seen, it is visible.  \n",
            "- **Unit Visible:** If any model in a unit is visible, that model's unit is visible.  \n",
            "- **Model Fully Visible:** If every Warhammer 40,000 battles are fought across all manner of grim and perilous landscapes, often strewn with ruins, wreckage and other obstacles your forces must navigate while they fight.  \n",
            "#### - Unit Fully Visible: If Every Model In A Unit Is Fully Visible, That Unit Is\n",
            "  \n",
            "  Header 1: Core Concepts Header 2: Determining Visibility \n",
            "  text: - **Unit Fully Visible:** If every model in a unit is fully visible, that unit is fully visible.  \n",
            "#### Hints And Tips  \n",
            "Dice Rolling\n",
            "  \n",
            "  Header 1: Introduction Header 2: Datasheets And Unit Abilities (Pg 37-39) \n",
            "  text: MODEL FULLY VISIBLE\n",
            "If every part of another model that is facing the observing model can be seen from any part of the observing model, then that other model is said Every Warhammer 40,000 unit has a datasheet, reflecting the characteristics and abilities they can draw upon in battle.  \n",
            "Unit Visible  \n",
            "#### Has Line Of Sight To All Parts Of The Other Model That Are Facing It, Without Any Other Models Or Terrain Features Blocking Visibility To Any Of Those Parts. Unit Fully Visible\n",
            "  \n",
            "  Header 1: Introduction Header 2: Strategic Reserves And Stratagems (Pg 41-43) \n",
            "  text: If every model in a unit is fully visible to an observing model, then that unit is fully visible to that observing model. For the purposes of determining if an enemy unit is One model in this unit is visible, meaning the unit is visible.  \n",
            "From well-timed Strategic Reserves to deftly executed Stratagems, gifted generals make use of all the tactical advantages at their disposal.  \n",
            "Model Fully Visible  \n",
            "#### Unit It Is Observing.\n",
            "  \n",
            "  Header 1: Core Concepts Header 2: Determining Visibility \n",
            "  text: #### Model Fully Visible  \n",
            "If every part of another model that is facing the observing model can be seen from any part of the observing model, then that other model is said to be fully visible to the observing model, i.e. the observing model has line of sight to all parts of the other model that are facing it, without any other models or terrain features blocking visibility to any of those parts.  \n",
            "#### Unit Fully Visible  \n",
            "If every model in a unit is fully visible to an observing model, then that unit is fully visible to that observing model. For the purposes of determining if an enemy unit is fully visible, an observing model can see through other models in the unit it is observing.  \n",
            "- **Model Visible:** If any part of a model can be seen, it is visible.  \n",
            "- **Unit Visible:** If any model in a unit is visible, that model's unit is visible.  \n",
            "- **Model Fully Visible:** If every facing part of a model can be seen, it is fully visible.\n",
            "  \n",
            "  <|eot_id|>\n",
            "  \n",
            "  <|start_header_id|>assistant<|end_header_id|>\n",
            "  \n"
          ]
        }
      ]
    },
    {
      "cell_type": "markdown",
      "source": [
        "# Full Rag\n",
        "\n",
        "Create functions to perform the full RAG pipeline, you may create a function for the CPU and another one for the GPU."
      ],
      "metadata": {
        "id": "PvBFifq7F1h1"
      }
    },
    {
      "cell_type": "code",
      "source": [
        "question_0 = \"What is a visible unit ?\"\n",
        "question_1 = 'What are the limitations associated to the advance mouvement rule ?'\n",
        "question_2 = 'Is there a stratagem that can be used to reroll a failed dice role?'\n",
        "question_3 = 'Explain the Comand Re-roll stratagem'"
      ],
      "metadata": {
        "id": "4yjRG9hqkwcR"
      },
      "execution_count": null,
      "outputs": []
    },
    {
      "cell_type": "code",
      "source": [
        "def full_rag_cpu(question, n_results=4):\n",
        "  prompt = prompt_generation(question,retrieve(question))\n",
        "  answer = llama_cpp_generate(prompt)\n",
        "  return answer"
      ],
      "metadata": {
        "id": "DuAGBaenFsZk"
      },
      "execution_count": null,
      "outputs": []
    },
    {
      "cell_type": "code",
      "source": [
        "full_rag_cpu(question_0)"
      ],
      "metadata": {
        "colab": {
          "base_uri": "https://localhost:8080/",
          "height": 53
        },
        "id": "S2IJdT0Rg_4t",
        "outputId": "85f0978a-c828-49e8-889c-c3a906fd0f1a"
      },
      "execution_count": null,
      "outputs": [
        {
          "output_type": "execute_result",
          "data": {
            "text/plain": [
              "' You are looking for a definition of a \"visible unit\" in the context of the Warhammer 40,000 universe. Based on the provided context, a visible unit is a unit that can be seen by an observer, meaning that every part of the unit can be seen from the observer\\'s position.'"
            ],
            "application/vnd.google.colaboratory.intrinsic+json": {
              "type": "string"
            }
          },
          "metadata": {},
          "execution_count": 51
        }
      ]
    },
    {
      "cell_type": "code",
      "source": [
        "full_rag_cpu(question_1)"
      ],
      "metadata": {
        "colab": {
          "base_uri": "https://localhost:8080/",
          "height": 53
        },
        "id": "y8dHrOJkhIS9",
        "outputId": "12731353-c541-438f-e3ce-84e36de2ad48"
      },
      "execution_count": null,
      "outputs": [
        {
          "output_type": "execute_result",
          "data": {
            "text/plain": [
              "' The limitation associated with the Advance movement rule is:\\n\\n* Models cannot be moved within Engagement Range of enemy models during the Advance phase.\\n\\nIn other words, if a model wants to advance, it can only move up to the distance specified on the Advance roll (4 in this case) and cannot move within the Engagement Range of any enemy models.'"
            ],
            "application/vnd.google.colaboratory.intrinsic+json": {
              "type": "string"
            }
          },
          "metadata": {},
          "execution_count": 34
        }
      ]
    },
    {
      "cell_type": "code",
      "source": [
        "full_rag_cpu(question_2)"
      ],
      "metadata": {
        "colab": {
          "base_uri": "https://localhost:8080/",
          "height": 35
        },
        "id": "iUcYpzFDhKPu",
        "outputId": "0d148416-8066-4a81-f45f-44bca1c0fef1"
      },
      "execution_count": null,
      "outputs": [
        {
          "output_type": "execute_result",
          "data": {
            "text/plain": [
              "' You can balance another dice on top of a cocked dice without it sliding off.'"
            ],
            "application/vnd.google.colaboratory.intrinsic+json": {
              "type": "string"
            }
          },
          "metadata": {},
          "execution_count": 57
        }
      ]
    },
    {
      "cell_type": "code",
      "source": [
        "full_rag_cpu(question_3)"
      ],
      "metadata": {
        "colab": {
          "base_uri": "https://localhost:8080/",
          "height": 35
        },
        "id": "p6iDKxHWhL0N",
        "outputId": "357a4de1-71d6-4fd9-dc31-0cf52ff0ca9b"
      },
      "execution_count": null,
      "outputs": [
        {
          "output_type": "execute_result",
          "data": {
            "text/plain": [
              "' the command re-roll stratagem allows a commander to re-roll a dice roll once, after all modifiers have been applied.'"
            ],
            "application/vnd.google.colaboratory.intrinsic+json": {
              "type": "string"
            }
          },
          "metadata": {},
          "execution_count": 36
        }
      ]
    },
    {
      "cell_type": "markdown",
      "source": [
        "<hr>"
      ],
      "metadata": {
        "id": "vKqosCoCE40k"
      }
    },
    {
      "cell_type": "code",
      "source": [
        "def full_rag_gpu(question, n_results=4):\n",
        "    prompt = prompt_generation(question,retrieve(question))\n",
        "    answer = llm_complete(prompt)\n",
        "    return answer"
      ],
      "metadata": {
        "id": "8TP1wD7SUTJR"
      },
      "execution_count": null,
      "outputs": []
    },
    {
      "cell_type": "code",
      "source": [
        "full_rag_gpu(question_0)"
      ],
      "metadata": {
        "colab": {
          "base_uri": "https://localhost:8080/",
          "height": 53
        },
        "id": "wh4ksSgBE92a",
        "outputId": "5abced53-549f-48d7-e71f-e38e47a0c1d3"
      },
      "execution_count": null,
      "outputs": [
        {
          "output_type": "stream",
          "name": "stderr",
          "text": [
            "Setting `pad_token_id` to `eos_token_id`:None for open-end generation.\n"
          ]
        },
        {
          "output_type": "execute_result",
          "data": {
            "text/plain": [
              "' a unit is fully visible if every part of it can be seen from any part of the observing model, without any other models or terrain features blocking the view.'"
            ],
            "application/vnd.google.colaboratory.intrinsic+json": {
              "type": "string"
            }
          },
          "metadata": {},
          "execution_count": 74
        }
      ]
    },
    {
      "cell_type": "code",
      "source": [
        "full_rag_gpu(question_1)"
      ],
      "metadata": {
        "colab": {
          "base_uri": "https://localhost:8080/",
          "height": 71
        },
        "id": "WTWV_JvLFBNg",
        "outputId": "4b7561de-aa26-43b4-e60b-aef383cedc3f"
      },
      "execution_count": null,
      "outputs": [
        {
          "output_type": "stream",
          "name": "stderr",
          "text": [
            "Setting `pad_token_id` to `eos_token_id`:None for open-end generation.\n"
          ]
        },
        {
          "output_type": "execute_result",
          "data": {
            "text/plain": [
              "' The limitations associated with the \"Advance Move\" rule are:\\n\\n- A unit can only move up to M+D6 inches.\\n- The unit cannot shoot or charge this turn.\\n- The unit cannot move within Engagement Range of any enemy models.'"
            ],
            "application/vnd.google.colaboratory.intrinsic+json": {
              "type": "string"
            }
          },
          "metadata": {},
          "execution_count": 75
        }
      ]
    },
    {
      "cell_type": "code",
      "source": [
        "full_rag_gpu(question_2)"
      ],
      "metadata": {
        "colab": {
          "base_uri": "https://localhost:8080/",
          "height": 53
        },
        "id": "ou8n0YJVFEIe",
        "outputId": "bb703ded-0d63-411a-98e4-130e87965be3"
      },
      "execution_count": null,
      "outputs": [
        {
          "output_type": "stream",
          "name": "stderr",
          "text": [
            "Setting `pad_token_id` to `eos_token_id`:None for open-end generation.\n"
          ]
        },
        {
          "output_type": "execute_result",
          "data": {
            "text/plain": [
              "' You can reroll a failed dice roll by using the \"Cocked Dice\" rule, which states that unless the dice is flat after it has been rolled, or unless you can balance another dice, you must re-roll it.'"
            ],
            "application/vnd.google.colaboratory.intrinsic+json": {
              "type": "string"
            }
          },
          "metadata": {},
          "execution_count": 76
        }
      ]
    },
    {
      "cell_type": "code",
      "source": [
        "full_rag_gpu(question_3)"
      ],
      "metadata": {
        "colab": {
          "base_uri": "https://localhost:8080/",
          "height": 71
        },
        "id": "hhEv17cRFFR6",
        "outputId": "de6f811f-049d-45d1-dd71-fb93611d6547"
      },
      "execution_count": null,
      "outputs": [
        {
          "output_type": "stream",
          "name": "stderr",
          "text": [
            "Setting `pad_token_id` to `eos_token_id`:None for open-end generation.\n"
          ]
        },
        {
          "output_type": "execute_result",
          "data": {
            "text/plain": [
              "\" the command re-roll stratagem allows a commander to re-roll dice rolls that were made by adding multiple dice together. This can be used to re-roll dice rolls that were made by adding 2D6, 3D6, etc. \\n\\nHowever, it's worth noting that re-rolling a dice roll that was made by adding multiple dice together will only be done once, and will not be able to be re-done.\""
            ],
            "application/vnd.google.colaboratory.intrinsic+json": {
              "type": "string"
            }
          },
          "metadata": {},
          "execution_count": 73
        }
      ]
    },
    {
      "cell_type": "markdown",
      "source": [
        "# Adding a reranker\n",
        "The results Might not be satisfactory for some questions.\n",
        "\n",
        "In order to better use the header extraction, we will rerank the chunks using BM25 over the headers."
      ],
      "metadata": {
        "id": "flMmij9HWBTB"
      }
    },
    {
      "cell_type": "markdown",
      "source": [
        "#### Tokenization"
      ],
      "metadata": {
        "id": "w6W-_gbjqBB-"
      }
    },
    {
      "cell_type": "code",
      "source": [
        "eng_stopwords_set = set(stopwords.words('english'))\n",
        "nlp = spacy.load(\"en_core_web_sm\")"
      ],
      "metadata": {
        "id": "_nZXd0BnNrw2"
      },
      "execution_count": null,
      "outputs": []
    },
    {
      "cell_type": "code",
      "source": [
        "def tokenize_without_stopwords(s, stopwords_set=set()):\n",
        "  return [token.text for token in nlp(s) if token.text not in stopwords_set]\n",
        "\n",
        "# Testing tokenization\n",
        "test_tokenized = tokenize_without_stopwords(question_2, eng_stopwords_set)\n",
        "test_tokenized"
      ],
      "metadata": {
        "colab": {
          "base_uri": "https://localhost:8080/"
        },
        "id": "jrHIECcMnW2V",
        "outputId": "37e0a04e-aae3-4514-ea17-a4c9666e951e"
      },
      "execution_count": null,
      "outputs": [
        {
          "output_type": "execute_result",
          "data": {
            "text/plain": [
              "['Is', 'stratagem', 'used', 'reroll', 'failed', 'dice', 'role', '?']"
            ]
          },
          "metadata": {},
          "execution_count": 6
        }
      ]
    },
    {
      "cell_type": "markdown",
      "source": [
        "#### Stemming"
      ],
      "metadata": {
        "id": "o2LuomKvFC6f"
      }
    },
    {
      "cell_type": "code",
      "source": [
        "stemmer = SnowballStemmer(language=\"english\")\n",
        "\n",
        "# returns list[str]\n",
        "def stem(l_tokens):\n",
        "  return [stemmer.stem(token) for token in l_tokens]\n",
        "\n",
        "test_stemmed = stem(test_tokenized)\n",
        "test_stemmed"
      ],
      "metadata": {
        "id": "m3Ht8gSuNvVy",
        "colab": {
          "base_uri": "https://localhost:8080/"
        },
        "outputId": "97327e9d-9a56-43af-d84e-7ea0d350e2f2"
      },
      "execution_count": null,
      "outputs": [
        {
          "output_type": "execute_result",
          "data": {
            "text/plain": [
              "['is', 'stratagem', 'use', 'rerol', 'fail', 'dice', 'role', '?']"
            ]
          },
          "metadata": {},
          "execution_count": 7
        }
      ]
    },
    {
      "cell_type": "markdown",
      "source": [
        "#### Preprocessing"
      ],
      "metadata": {
        "id": "IQJyWLRirKUG"
      }
    },
    {
      "cell_type": "code",
      "source": [
        "def metadata_preprocessing(metadata):\n",
        "    # medata: list[str]\n",
        "    tokenized = [tokenize_without_stopwords(s) for s in metadata]\n",
        "    preprocessed_headers = [stem(l_tokens) for l_tokens in tokenized]\n",
        "    return preprocessed_headers # list[list[str]]\n",
        "\n",
        "def query_preprocessing(query):\n",
        "    # query: str\n",
        "    tokenized = tokenize_without_stopwords(query)\n",
        "    preprocessed_queries = stem(tokenized)\n",
        "    return preprocessed_queries # list[str]"
      ],
      "metadata": {
        "id": "9TW-taRDMzsD"
      },
      "execution_count": null,
      "outputs": []
    },
    {
      "cell_type": "markdown",
      "source": [
        "#### BM25 engine"
      ],
      "metadata": {
        "id": "oATSRez1GQdC"
      }
    },
    {
      "cell_type": "code",
      "source": [
        "def rerank_chunks(question, chunks, n_results=5):\n",
        "    headers = ['#'.join(chunk[\"header\"].values()) for chunk in chunks] # list[str]\n",
        "    preprocessed_headers = metadata_preprocessing(headers)\n",
        "    preprocessed_query = query_preprocessing(question)\n",
        "\n",
        "    bm25_model = BM25Okapi(preprocessed_headers)\n",
        "\n",
        "    scores = bm25_model.get_scores(preprocessed_query)\n",
        "    chunks_score_list = list(zip(chunks, scores)) # list[ tuple( dict[str:str], float ) ]\n",
        "    chunks_score_list.sort(key=lambda x: x[1], reverse=True)\n",
        "\n",
        "    best_chunks = chunks_score_list[:n_results]\n",
        "\n",
        "    return best_chunks # list[ tuple( dict[str:str], float ) ], returns best chunks and their score"
      ],
      "metadata": {
        "id": "KS90kln0aZnO"
      },
      "execution_count": null,
      "outputs": []
    },
    {
      "cell_type": "markdown",
      "source": [
        "#### Tests"
      ],
      "metadata": {
        "id": "t0hWBAt-Df7N"
      }
    },
    {
      "cell_type": "code",
      "source": [
        "retrieved_chunks = retrieve(question_0, n_results=100) # list[dict[str:str]]\n",
        "reranked_chunks = rerank_chunks(question_0, retrieved_chunks, n_results=10) # list[ tuple( dict[str:str],float ) ]\n",
        "for rr_chk in reranked_chunks:\n",
        "    print('score: {}'.format(rr_chk[1]))\n",
        "    print('header: {}'.format('#'.join(rr_chk[0]['header'].values())))\n",
        "    print('text: {}'.format(rr_chk[0]['text']))\n",
        "    print('-'*100)"
      ],
      "metadata": {
        "colab": {
          "base_uri": "https://localhost:8080/"
        },
        "id": "243wM3cs9cKx",
        "outputId": "b11474d1-6e00-4a31-88b3-f8f95703a52a"
      },
      "execution_count": null,
      "outputs": [
        {
          "output_type": "stream",
          "name": "stdout",
          "text": [
            "score: 3.5217102384768935\n",
            "header: Core Concepts#Determining Visibility\n",
            "text: - **Unit Fully Visible:** If every model in a unit is fully visible, that unit is fully visible.  \n",
            "#### Hints And Tips  \n",
            "Dice Rolling\n",
            "----------------------------------------------------------------------------------------------------\n",
            "score: 3.5217102384768935\n",
            "header: Core Concepts#Determining Visibility\n",
            "text: #### Model Fully Visible  \n",
            "If every part of another model that is facing the observing model can be seen from any part of the observing model, then that other model is said to be fully visible to the observing model, i.e. the observing model has line of sight to all parts of the other model that are facing it, without any other models or terrain features blocking visibility to any of those parts.  \n",
            "#### Unit Fully Visible  \n",
            "If every model in a unit is fully visible to an observing model, then that unit is fully visible to that observing model. For the purposes of determining if an enemy unit is fully visible, an observing model can see through other models in the unit it is observing.  \n",
            "- **Model Visible:** If any part of a model can be seen, it is visible.  \n",
            "- **Unit Visible:** If any model in a unit is visible, that model's unit is visible.  \n",
            "- **Model Fully Visible:** If every facing part of a model can be seen, it is fully visible.\n",
            "----------------------------------------------------------------------------------------------------\n",
            "score: 3.5217102384768935\n",
            "header: Core Concepts#Determining Visibility\n",
            "text: Warhammer 40,000 uses true line of sight to determine visibility between models. To check this, get a 'model's perspective' view by looking from behind the observing model. For the purposes of determining visibility, an observing model can see through other models in its unit, and a model's base is also part of that model.  \n",
            "#### Model Visible  \n",
            "If any part of another model can be seen from any part of the observing model, that other model is visible to the observing model.  \n",
            "#### Unit Visible  \n",
            "If one or more models in a unit is visible to the observing model, then that model's unit is visible to the observing model.  \n",
            "#### Model Fully Visible\n",
            "----------------------------------------------------------------------------------------------------\n",
            "score: 2.3631017407284065\n",
            "header: Movement Phase#1. Move Units\n",
            "text: its base that moves furthest along its path. If a model does not have a base, measure using whichever part of that model moves the furthest.\n",
            "----------------------------------------------------------------------------------------------------\n",
            "score: 2.3631017407284065\n",
            "header: Movement Phase#1. Move Units\n",
            "text: - When a unit moves it can make a Normal move, Advance or Remain Stationary.  \n",
            "- Units that are within Engagement Range of any enemy models can only Fall Back or Remain Stationary.  \n",
            "#### Remain Stationary  \n",
            "If a unit Remains Stationary, none of its models can be moved for the rest of the phase.  \n",
            "#### Normal Moves  \n",
            "When a unit makes a Normal move, each model in that unit can move a distance in inches less than or equal to its Move (M) characteristic, but no model can be moved within Engagement Range of any enemy models (pg 7).  \n",
            "- **Normal Move:** Models move up to M\". - Cannot move within Engagement Range of any enemy models.  \n",
            "13  \n",
            "4 5  \n",
            "#### Advance Moves\n",
            "----------------------------------------------------------------------------------------------------\n",
            "score: 2.3631017407284065\n",
            "header: Movement Phase#1. Move Units\n",
            "text: After you have finished moving that unit, select another unit from your army to move, and so on, until you have done so with all of your units. Once you have moved all of your units, progress to the Reinforcements step of your Movement phase. Each time you move a unit, you can move any of its models you choose to. The controlling player chooses the order in which to move their models. Whenever you move a model, you can pivot it and/or change its position on the battlefield along any path, but no part of its base can be moved across an enemy model or cross the edge of the battlefield. It can be moved over friendly models as if they were not there if you wish, but it cannot end its move on top of another model. The only exception to this is when moving Monster or **Vehicle** models; such models cannot be moved over other friendly Monster or **Vehicle** models and must be moved around them instead. The distance a model moves is measured using the part of its base that moves furthest\n",
            "----------------------------------------------------------------------------------------------------\n",
            "score: 2.3631017407284065\n",
            "header: Movement Phase#1. Move Units\n",
            "text: 4 5  \n",
            "#### Advance Moves  \n",
            "When a unit Advances, make an Advance roll for that unit by rolling one D6. Add the result in inches to the Move characteristic of each model in that unit until the end of the phase. Each model in that unit can then make an Advance move by moving a distance in inches less than or equal to this total, but no model can be moved within Engagement Range of enemy models. A unit cannot shoot or declare a charge in the same turn that it Advanced.  \n",
            "- **Advance Move:** Models move up to M+D6\". - Cannot move within Engagement Range of any enemy models.  \n",
            "- Units that Advance cannot shoot or charge this turn.  \n",
            "#### Fall Back Moves\n",
            "----------------------------------------------------------------------------------------------------\n",
            "score: 1.5298500691034391\n",
            "header: Introduction#Datasheets And Unit Abilities (Pg 37-39)\n",
            "text: MODEL FULLY VISIBLE\n",
            "If every part of another model that is facing the observing model can be seen from any part of the observing model, then that other model is said Every Warhammer 40,000 unit has a datasheet, reflecting the characteristics and abilities they can draw upon in battle.  \n",
            "Unit Visible  \n",
            "#### Has Line Of Sight To All Parts Of The Other Model That Are Facing It, Without Any Other Models Or Terrain Features Blocking Visibility To Any Of Those Parts. Unit Fully Visible\n",
            "----------------------------------------------------------------------------------------------------\n",
            "score: 0.0\n",
            "header: Introduction#Terrain Features (Pg 44-52)\n",
            "text: - **Model Visible:** If any part of a model can be seen, it is visible.  \n",
            "- **Unit Visible:** If any model in a unit is visible, that model's unit is visible.  \n",
            "- **Model Fully Visible:** If every Warhammer 40,000 battles are fought across all manner of grim and perilous landscapes, often strewn with ruins, wreckage and other obstacles your forces must navigate while they fight.  \n",
            "#### - Unit Fully Visible: If Every Model In A Unit Is Fully Visible, That Unit Is\n",
            "----------------------------------------------------------------------------------------------------\n",
            "score: 0.0\n",
            "header: Introduction#Strategic Reserves And Stratagems (Pg 41-43)\n",
            "text: If every model in a unit is fully visible to an observing model, then that unit is fully visible to that observing model. For the purposes of determining if an enemy unit is One model in this unit is visible, meaning the unit is visible.  \n",
            "From well-timed Strategic Reserves to deftly executed Stratagems, gifted generals make use of all the tactical advantages at their disposal.  \n",
            "Model Fully Visible  \n",
            "#### Unit It Is Observing.\n",
            "----------------------------------------------------------------------------------------------------\n"
          ]
        }
      ]
    },
    {
      "cell_type": "code",
      "source": [
        "retrieved_chunks = retrieve(question_1, n_results=100) # list[dict[str:str]]\n",
        "reranked_chunks = rerank_chunks(question_1, retrieved_chunks, n_results=10) # list[ tuple( dict[str:str],float ) ]\n",
        "for rr_chk in reranked_chunks:\n",
        "    print('score: {}'.format(rr_chk[1]))\n",
        "    print('header: {}'.format('#'.join(rr_chk[0]['header'].values())))\n",
        "    print('text: {}'.format(rr_chk[0]['text']))\n",
        "    print('-'*100)"
      ],
      "metadata": {
        "colab": {
          "base_uri": "https://localhost:8080/"
        },
        "id": "WjcW-xWuECsR",
        "outputId": "4a70a695-d0f8-419b-8f17-90c3d7d9ec89"
      },
      "execution_count": null,
      "outputs": [
        {
          "output_type": "stream",
          "name": "stdout",
          "text": [
            "score: 0.0\n",
            "header: Movement Phase#1. Move Units\n",
            "text: 4 5  \n",
            "#### Advance Moves  \n",
            "When a unit Advances, make an Advance roll for that unit by rolling one D6. Add the result in inches to the Move characteristic of each model in that unit until the end of the phase. Each model in that unit can then make an Advance move by moving a distance in inches less than or equal to this total, but no model can be moved within Engagement Range of enemy models. A unit cannot shoot or declare a charge in the same turn that it Advanced.  \n",
            "- **Advance Move:** Models move up to M+D6\". - Cannot move within Engagement Range of any enemy models.  \n",
            "- Units that Advance cannot shoot or charge this turn.  \n",
            "#### Fall Back Moves\n",
            "----------------------------------------------------------------------------------------------------\n",
            "score: 0.0\n",
            "header: Fight#3. Consolidate\n",
            "text: - **Consolidation Move:** Up to 3\". - Every model that moves must end closer to the closest enemy model, and in base-to-base contact with an enemy model if possible. The unit must end in Unit Coherency and within Engagement Range of at least one enemy unit if possible.  \n",
            "- If the above is not possible, each model can move towards the closest objective marker, but this must result in the unit being within range of it and in Unit Coherency.  \n",
            "- If the above is also not possible, no models can Consolidate.  \n",
            "1 2 3 4  \n",
            "35  \n",
            "- these Termagants will also get to make attacks. The remaining two Termagants are too distant from the foe, and will not get to make attacks.\n",
            "----------------------------------------------------------------------------------------------------\n",
            "score: 0.0\n",
            "header: Core Concepts\n",
            "text: This section introduces various rules terms that you will find throughout the Core Rules and beyond. These key concepts form the basis of the Warhammer 40,000 rules, and are essential for every kind of battle.\n",
            "----------------------------------------------------------------------------------------------------\n",
            "score: 0.0\n",
            "header: Aircraft\n",
            "text: models, then that unit can still make a Normal or Advance move. Whenever a model makes any kind of move, it can be moved over enemy **Aircraft** models as if they were not there, and can be moved within Engagement Range of enemy **Aircraft** models, but it cannot end that move on top of another model or within Engagement Range of any enemy Aircraft models.  \n",
            "- Units can still make a Normal or Advance move if they are only within Engagement Range of enemy **Aircraft**.  \n",
            "- Models can move within Engagement Range of enemy **Aircraft**, but cannot end a move within Engagement Range of enemy **Aircraft**.  \n",
            "- Models can move over **Aircraft** when they make any kind of move.  \n",
            "#### Aircraft In The Charge And Fight Phases\n",
            "----------------------------------------------------------------------------------------------------\n",
            "score: 0.0\n",
            "header: Aircraft\n",
            "text: If placed into Strategic Reserves, an **Aircraft** model will always arrive from Strategic Reserves in your next turn.  \n",
            "- **Aircraft** can only make a Normal move, and can do so even when within Engagement Range of enemy models.  \n",
            "- **Aircraft** must move straight forward at least 20\", and can then make one pivot of up to 90°.  \n",
            "- **Aircraft** that cross the edge of the battlefield, or that cannot make their minimum move, are placed into Strategic Reserves.  \n",
            "53 CORE RULES | AIRCRAFT  \n",
            "#### Aircraft And The Movement Of Other Models  \n",
            "When a unit is selected to move in the Movement phase, if the only enemy models that are within Engagement Range of that unit are **Aircraft**\n",
            "----------------------------------------------------------------------------------------------------\n",
            "score: 0.0\n",
            "header: Core Concepts#Armies\n",
            "text: A unit that contains more than one model must be set up and end any kind of move as a single group, with all of its models within 2\" horizontally and 5\" vertically of at least one other model from that unit. While a unit has seven or more models, all of its models must instead be set up and end any kind of move within 2\" horizontally and 5\" vertically of at least two other models from that unit. This is called Unit Coherency. If for any reason a model cannot be set up in Unit Coherency, that model is destroyed. If a unit cannot end a move in Unit Coherency, it cannot make that move and its models are returned to their previous positions. At the end of every turn, each player must remove models, one at a time, from any of the units from their armies that are no longer in Unit Coherency, until only a single group of models from each of those units remains in play and in Unit Coherency. Models removed in this way count as having been destroyed, but they never trigger any rules that apply\n",
            "----------------------------------------------------------------------------------------------------\n",
            "score: 0.0\n",
            "header: Movement Phase#1. Move Units\n",
            "text: - When a unit moves it can make a Normal move, Advance or Remain Stationary.  \n",
            "- Units that are within Engagement Range of any enemy models can only Fall Back or Remain Stationary.  \n",
            "#### Remain Stationary  \n",
            "If a unit Remains Stationary, none of its models can be moved for the rest of the phase.  \n",
            "#### Normal Moves  \n",
            "When a unit makes a Normal move, each model in that unit can move a distance in inches less than or equal to its Move (M) characteristic, but no model can be moved within Engagement Range of any enemy models (pg 7).  \n",
            "- **Normal Move:** Models move up to M\". - Cannot move within Engagement Range of any enemy models.  \n",
            "13  \n",
            "4 5  \n",
            "#### Advance Moves\n",
            "----------------------------------------------------------------------------------------------------\n",
            "score: 0.0\n",
            "header: Command Phase#2. Battle-Shock\n",
            "text: For the purposes of rules that are triggered when a unit is destroyed, such rules are still triggered when one of the individual units that made up an Attached unit is destroyed (the Leader or the Bodyguard unit).  \n",
            "Example: If a rule awards you with 1VP each time an enemy unit is destroyed, and you target an Attached unit, you would gain 1VP if the Bodyguard unit is destroyed and 1VP if the Leader unit is destroyed (for a total of 2VP).  \n",
            "2  \n",
            "3 4 5  \n",
            "3\n",
            "----------------------------------------------------------------------------------------------------\n",
            "score: 0.0\n",
            "header: Objective Markers\n",
            "text: - A model is within range of an objective marker if within 3\" horizontally and 5\" vertically.  \n",
            "- **Level of Control:** Add together the OC characteristics of all of a player's models within range of the objective marker.  \n",
            "- An objective marker is controlled by the player with the highest Level of Control over it (in a tie, it is contested).  \n",
            "- Models cannot end a move on top of an objective marker.  \n",
            "#### Hints And Tips  \n",
            "Objective Markers And Terrain Features\n",
            "----------------------------------------------------------------------------------------------------\n",
            "score: 0.0\n",
            "header: Aircraft\n",
            "text: Aircraft models cannot Advance, Fall Back or Remain Stationary. If, when an **Aircraft** model is selected to move in the Movement phase, any enemy units are within Engagement Range of it, that Aircraft model can still make a Normal move. Each time an **Aircraft** model makes a Normal move, first move the model straight forward, and it must move a minimum of 20\" - all parts of the model's base must end the move at least this far from where they started. After it has moved, it can pivot on the spot up to 90° - this does not contribute to how far the model moves. If, when making a Normal move, any part of an **Aircraft** model's base crosses the edge of the battlefield, or it cannot move a minimum of 20\", that model's move ends and it is placed into Strategic Reserves. There is no upper limit to how far **Aircraft** models can move, and their Move characteristic is therefore 20+\".\n",
            "----------------------------------------------------------------------------------------------------\n"
          ]
        }
      ]
    },
    {
      "cell_type": "code",
      "source": [
        "retrieved_chunks = retrieve(question_2, n_results=100)\n",
        "reranked_chunks = rerank_chunks(question_2, retrieved_chunks, n_results=10)\n",
        "for rr_chk in reranked_chunks:\n",
        "    print('score: {}'.format(rr_chk[1]))\n",
        "    print('header: {}'.format('#'.join(rr_chk[0]['header'].values())))\n",
        "    print('text: {}'.format(rr_chk[0]['text']))\n",
        "    print('-'*100)"
      ],
      "metadata": {
        "collapsed": true,
        "id": "5_NX0XBbaZjy",
        "colab": {
          "base_uri": "https://localhost:8080/"
        },
        "outputId": "1c0609c4-6e92-4bac-f19e-7533f8fd0927"
      },
      "execution_count": null,
      "outputs": [
        {
          "output_type": "stream",
          "name": "stdout",
          "text": [
            "score: 3.2838594773675993\n",
            "header: Stratagems\n",
            "text: BATTLE TACTIC: These Stratagems bolster a unit's efficacy in battle, boosting their attacks or defensive capabilities at a critical moment.  \n",
            "EPIC DEED: These Stratagems are used by individual models or units to perform mighty feats of heroism.  \n",
            "STRATEGIC PLOY: These Stratagems enable units to gain new strategic insights, granting them a small but valuable window of opportunity.  \n",
            "WARGEAR: These Stratagems represent the effects of using specialised items of equipment in battle.  \n",
            "#### Command Re-Roll  \n",
            "CORE - BATTLE TACTIC STRATAGEM\n",
            "A great commander can bend even the vagaries of fate and fortune to their will, the better to ensure victory.  \n",
            "1CP 2CP\n",
            "----------------------------------------------------------------------------------------------------\n",
            "score: 3.2838594773675993\n",
            "header: Stratagems\n",
            "text: Command points can be spent during the battle to use Stratagems. All players can use the Core Stratagems presented here. Additional Stratagems can be found in Codexes and other publications.  \n",
            "When you use a Stratagem, reduce your CP total by the amount listed on that Stratagem. If you do not have enough CP for a specific Stratagem, you cannot use it. You can use the same Stratagem multiple times during a battle, but you cannot use the same Stratagem more than once in the same phase.  \n",
            "- To use a Stratagem you must pay the CP specified.  \n",
            "- The same Stratagem cannot be used more than once in the same phase.  \n",
            "#### Stratagems Key  \n",
            "EITHER PLAYER'S TURN YOUR TURN OPPONENT'S TURN  \n",
            "#### Stratagem Categories  \n",
            "Each Stratagem belongs to one of four categories, as described below. There are some rules (especially in Crusade games) that interact with Stratagems of a particular category.\n",
            "----------------------------------------------------------------------------------------------------\n",
            "score: 3.2838594773675993\n",
            "header: Stratagems\n",
            "text: 1CP 2CP\n",
            "WHEN: In any phase, just after you have made a Hit roll, a Wound roll, a Damage roll, a saving throw, an Advance roll, a Charge roll, a Desperate Escape test, a Hazardous test, or just after you have rolled the dice to determine the number of attacks made with a weapon, for an attack, model or unit from your army. EFFECT: You re-roll that roll, test or saving throw.  \n",
            "#### Counter-Offensive  \n",
            "CORE - STRATEGIC PLOY STRATAGEM\n",
            "In close-quarters combat, the slightest hesitation can leave an opening for a swift foe to exploit.  \n",
            "WHEN: Fight phase, just after an enemy unit has fought. TARGET: One unit from your army that is within Engagement Range of one or more enemy units and that has not already been selected to fight this phase. EFFECT: Your unit fights next.  \n",
            "#### Epic Challenge  \n",
            "CORE - EPIC DEED STRATAGEM\n",
            "The legends of the 41st Millennium are replete with deadly duels between mighty champions.  \n",
            "1CP\n",
            "----------------------------------------------------------------------------------------------------\n",
            "score: 3.2838594773675993\n",
            "header: Stratagems\n",
            "text: RESTRICTIONS: You cannot use this Stratagem to enable a unit to arrive on the battlefield during a battle round it would not normally be able to do so in.  \n",
            "#### Fire Overwatch  \n",
            "CORE - STRATEGIC PLOY STRATAGEM\n",
            "A hail of wildfire can drive back advancing foes.  \n",
            "WHEN: Your opponent's Movement or Charge phase, just after an enemy unit is set up or when an enemy unit starts or ends a Normal, Advance, Fall Back or Charge move. TARGET: One unit from your army that is within 24\" of that enemy unit and that would be eligible to shoot if it were your Shooting phase.  \n",
            "EFFECT: Your unit can shoot that enemy unit as if it were your Shooting phase. RESTRICTIONS: Until the end of the phase, each time a model in your unit makes a ranged attack, an unmodified Hit roll of 6 is required to score a hit, irrespective of the attacking weapon's Ballistic Skill or any modifiers. You can only use this Stratagem once per turn.  \n",
            "#### Go To Ground  \n",
            "CORE - BATTLE TACTIC STRATAGEM\n",
            "1CP\n",
            "----------------------------------------------------------------------------------------------------\n",
            "score: 3.2838594773675993\n",
            "header: Stratagems\n",
            "text: CORE - WARGEAR STRATAGEM\n",
            "Priming their hand-held projectiles, these warriors draw back and hurl death into the enemy's midst.  \n",
            "1CP\n",
            "WHEN: Your Shooting phase. TARGET: One **Grenades** unit from your army that is not within Engagement Range of any enemy units and has not been selected to shoot this phase. EFFECT: Select one enemy unit that is not within Engagement Range of any units from your army and is within 8\" of and visible to your **Grenades** unit. Roll six D6: for each 4+, that enemy unit suffers 1 mortal wound.  \n",
            "#### Tank Shock  \n",
            "CORE - STRATEGIC PLOY STRATAGEM\n",
            "1CP\n",
            "Ramming the foe with a speeding vehicle may be an unsubtle tactic, but it is a murderously effective one.  \n",
            "WHEN: Your Charge phase.\n",
            "----------------------------------------------------------------------------------------------------\n",
            "score: 3.2838594773675993\n",
            "header: Stratagems\n",
            "text: WHEN: Your Charge phase.  \n",
            "TARGET: One **Vehicle** unit from your army. EFFECT: Until the end of the phase, after your unit ends a Charge move, select one enemy unit within Engagement Range of it, then select one melee weapon your unit is equipped with. Roll a number of D6 equal to that weapon's Strength characteristic. If that Strength characteristic is greater than that enemy unit's Toughness characteristic, roll two additional D6. For each 5+, that enemy unit suffers 1 mortal wound (to a maximum of 6 mortal wounds).  \n",
            "#### Rapid Ingress  \n",
            "CORE - STRATEGIC PLOY STRATAGEM\n",
            "1CP\n",
            "Be it cunning strategy, potent technology or supernatural ritual, there are many means by which a commander may hasten their warriors' onset. WHEN: End of your opponent's Movement phase. TARGET: One unit from your army that is in Reserves. EFFECT: Your unit can arrive on the battlefield as if it were the Reinforcements step of your Movement phase.\n",
            "----------------------------------------------------------------------------------------------------\n",
            "score: 3.2838594773675993\n",
            "header: Stratagems\n",
            "text: 1CP\n",
            "WHEN: Fight phase, when a **Character** unit from your army that is within Engagement Range of one or more Attached units is selected to fight.  \n",
            "TARGET: One **Character** model in your unit. EFFECT: Until the end of the phase, all melee attacks made by that model have the **[PRECISION]** ability (pg 26).  \n",
            "#### Insane Bravery  \n",
            "CORE - EPIC DEED STRATAGEM\n",
            "1CP\n",
            "Indifferent to their own survival, these warriors hold their ground against seemingly impossible odds.  \n",
            "WHEN: Battle-shock step of your Command phase, just after you have failed a Battle-shock test taken for a unit from your army (pg 11). TARGET: The unit from your army that Battle-shock test was just taken for (even though your Battle-shocked units cannot normally be affected by your Stratagems).  \n",
            "EFFECT: Your unit is treated as having passed that test instead, and is not Battle-shocked as a result.  \n",
            "1CP  \n",
            "#### Grenade  \n",
            "CORE - WARGEAR STRATAGEM\n",
            "----------------------------------------------------------------------------------------------------\n",
            "score: 3.2838594773675993\n",
            "header: Stratagems\n",
            "text: 1CP\n",
            "Seeking salvation from incoming fire, warriors hurl themselves into whatever cover they can find.  \n",
            "WHEN: Your opponent's Shooting phase, just after an enemy unit has selected its targets. TARGET: One **Infantry** unit from your army that was selected as the target of one or more of the attacking unit's attacks.  \n",
            "EFFECT: Until the end of the phase, all models in your unit have a 6+ invulnerable save and have the Benefit of Cover (pg 44).  \n",
            "#### Smokescreen  \n",
            "CORE - WARGEAR STRATAGEM\n",
            "Even the most skilled marksmen struggle to hit targets veiled by billowing screens of smoke.  \n",
            "WHEN: Your opponent's Shooting phase, just after an enemy unit has selected its targets. TARGET: One **Smoke** unit from your army that was selected as the target of one or more of the attacking unit's attacks.  \n",
            "EFFECT: Until the end of the phase, all models in your unit have the Benefit of Cover (pg 44) and the Stealth ability (pg 20).  \n",
            "#### Heroic Intervention  \n",
            "CORE - STRATEGIC PLOY STRATAGEM\n",
            "2CP\n",
            "----------------------------------------------------------------------------------------------------\n",
            "score: 3.2838594773675993\n",
            "header: Stratagems\n",
            "text: 2CP\n",
            "Voices raised in furious war cries, your warriors surge forth to meet the enemy's onslaught head-on.  \n",
            "WHEN: Your opponent's Charge phase, just after an enemy unit ends a Charge move.  \n",
            "TARGET: One unit from your army that is within 6\" of that enemy unit and would be eligible to declare a charge against that enemy unit if it were your Charge phase. EFFECT: Your unit now declares a charge that targets only that enemy unit, and you resolve that charge as if it were your Charge phase. RESTRICTIONS: You can only select a **Vehicle** unit from your army if it is a **Walker**. Note that even if this charge is successful, your unit does not receive any Charge bonus this turn (pg 29).  \n",
            "1CP\n",
            "----------------------------------------------------------------------------------------------------\n",
            "score: 0.0\n",
            "header: Core Concepts#Determining Visibility\n",
            "text: you can balance another dice on top of a cocked dice without it sliding off, it must be rolled again. It is more common for players to roll the dice again only if they can't be sure of the result. In any case, rolling a cocked dice again doesn't count as having re-rolled that dice.\n",
            "----------------------------------------------------------------------------------------------------\n"
          ]
        }
      ]
    },
    {
      "cell_type": "code",
      "source": [
        "question_3 = 'Explain the Comand Re-roll stratagem'\n",
        "retrieved_chunks = retrieve(question_3, n_results=100)\n",
        "reranked_chunks = rerank_chunks(question_3, retrieved_chunks, n_results=10)\n",
        "for rr_chk in reranked_chunks:\n",
        "    print('score: {}'.format(rr_chk[1]))\n",
        "    print('header: {}'.format('#'.join(rr_chk[0]['header'].values())))\n",
        "    print('text: {}'.format(rr_chk[0]['text']))\n",
        "    print('-'*100)"
      ],
      "metadata": {
        "id": "dT-rCxncaZgf",
        "colab": {
          "base_uri": "https://localhost:8080/"
        },
        "outputId": "4914fbe4-cf0d-4cc6-8c21-6600bae4542e"
      },
      "execution_count": null,
      "outputs": [
        {
          "output_type": "stream",
          "name": "stdout",
          "text": [
            "score: 3.7585579782077483\n",
            "header: The Battle Round#Movement Phase\n",
            "text: Your units manoeuvre across the battlefield and reinforcements enter the fray.  \n",
            "SHOOTING PHASE\n",
            "Your units fire their ranged weapons at the foe.  \n",
            "CHARGE PHASE\n",
            "Your units charge forward to battle at close quarters.  \n",
            "Both players' units pile in and attack with melee weapons.  \n",
            "Once a player's turn has ended, their opponent then starts their turn. Once both players have completed a turn, the battle round has been completed and the next one begins, and so on, until the battle ends.  \n",
            "3 4 5\n",
            "----------------------------------------------------------------------------------------------------\n",
            "score: 3.275511601767367\n",
            "header: Stratagems\n",
            "text: BATTLE TACTIC: These Stratagems bolster a unit's efficacy in battle, boosting their attacks or defensive capabilities at a critical moment.  \n",
            "EPIC DEED: These Stratagems are used by individual models or units to perform mighty feats of heroism.  \n",
            "STRATEGIC PLOY: These Stratagems enable units to gain new strategic insights, granting them a small but valuable window of opportunity.  \n",
            "WARGEAR: These Stratagems represent the effects of using specialised items of equipment in battle.  \n",
            "#### Command Re-Roll  \n",
            "CORE - BATTLE TACTIC STRATAGEM\n",
            "A great commander can bend even the vagaries of fate and fortune to their will, the better to ensure victory.  \n",
            "1CP 2CP\n",
            "----------------------------------------------------------------------------------------------------\n",
            "score: 3.275511601767367\n",
            "header: Stratagems\n",
            "text: Command points can be spent during the battle to use Stratagems. All players can use the Core Stratagems presented here. Additional Stratagems can be found in Codexes and other publications.  \n",
            "When you use a Stratagem, reduce your CP total by the amount listed on that Stratagem. If you do not have enough CP for a specific Stratagem, you cannot use it. You can use the same Stratagem multiple times during a battle, but you cannot use the same Stratagem more than once in the same phase.  \n",
            "- To use a Stratagem you must pay the CP specified.  \n",
            "- The same Stratagem cannot be used more than once in the same phase.  \n",
            "#### Stratagems Key  \n",
            "EITHER PLAYER'S TURN YOUR TURN OPPONENT'S TURN  \n",
            "#### Stratagem Categories  \n",
            "Each Stratagem belongs to one of four categories, as described below. There are some rules (especially in Crusade games) that interact with Stratagems of a particular category.\n",
            "----------------------------------------------------------------------------------------------------\n",
            "score: 3.275511601767367\n",
            "header: Stratagems\n",
            "text: 1CP 2CP\n",
            "WHEN: In any phase, just after you have made a Hit roll, a Wound roll, a Damage roll, a saving throw, an Advance roll, a Charge roll, a Desperate Escape test, a Hazardous test, or just after you have rolled the dice to determine the number of attacks made with a weapon, for an attack, model or unit from your army. EFFECT: You re-roll that roll, test or saving throw.  \n",
            "#### Counter-Offensive  \n",
            "CORE - STRATEGIC PLOY STRATAGEM\n",
            "In close-quarters combat, the slightest hesitation can leave an opening for a swift foe to exploit.  \n",
            "WHEN: Fight phase, just after an enemy unit has fought. TARGET: One unit from your army that is within Engagement Range of one or more enemy units and that has not already been selected to fight this phase. EFFECT: Your unit fights next.  \n",
            "#### Epic Challenge  \n",
            "CORE - EPIC DEED STRATAGEM\n",
            "The legends of the 41st Millennium are replete with deadly duels between mighty champions.  \n",
            "1CP\n",
            "----------------------------------------------------------------------------------------------------\n",
            "score: 3.275511601767367\n",
            "header: Stratagems\n",
            "text: WHEN: Your Charge phase.  \n",
            "TARGET: One **Vehicle** unit from your army. EFFECT: Until the end of the phase, after your unit ends a Charge move, select one enemy unit within Engagement Range of it, then select one melee weapon your unit is equipped with. Roll a number of D6 equal to that weapon's Strength characteristic. If that Strength characteristic is greater than that enemy unit's Toughness characteristic, roll two additional D6. For each 5+, that enemy unit suffers 1 mortal wound (to a maximum of 6 mortal wounds).  \n",
            "#### Rapid Ingress  \n",
            "CORE - STRATEGIC PLOY STRATAGEM\n",
            "1CP\n",
            "Be it cunning strategy, potent technology or supernatural ritual, there are many means by which a commander may hasten their warriors' onset. WHEN: End of your opponent's Movement phase. TARGET: One unit from your army that is in Reserves. EFFECT: Your unit can arrive on the battlefield as if it were the Reinforcements step of your Movement phase.\n",
            "----------------------------------------------------------------------------------------------------\n",
            "score: 3.275511601767367\n",
            "header: Stratagems\n",
            "text: CORE - WARGEAR STRATAGEM\n",
            "Priming their hand-held projectiles, these warriors draw back and hurl death into the enemy's midst.  \n",
            "1CP\n",
            "WHEN: Your Shooting phase. TARGET: One **Grenades** unit from your army that is not within Engagement Range of any enemy units and has not been selected to shoot this phase. EFFECT: Select one enemy unit that is not within Engagement Range of any units from your army and is within 8\" of and visible to your **Grenades** unit. Roll six D6: for each 4+, that enemy unit suffers 1 mortal wound.  \n",
            "#### Tank Shock  \n",
            "CORE - STRATEGIC PLOY STRATAGEM\n",
            "1CP\n",
            "Ramming the foe with a speeding vehicle may be an unsubtle tactic, but it is a murderously effective one.  \n",
            "WHEN: Your Charge phase.\n",
            "----------------------------------------------------------------------------------------------------\n",
            "score: 3.275511601767367\n",
            "header: Stratagems\n",
            "text: RESTRICTIONS: You cannot use this Stratagem to enable a unit to arrive on the battlefield during a battle round it would not normally be able to do so in.  \n",
            "#### Fire Overwatch  \n",
            "CORE - STRATEGIC PLOY STRATAGEM\n",
            "A hail of wildfire can drive back advancing foes.  \n",
            "WHEN: Your opponent's Movement or Charge phase, just after an enemy unit is set up or when an enemy unit starts or ends a Normal, Advance, Fall Back or Charge move. TARGET: One unit from your army that is within 24\" of that enemy unit and that would be eligible to shoot if it were your Shooting phase.  \n",
            "EFFECT: Your unit can shoot that enemy unit as if it were your Shooting phase. RESTRICTIONS: Until the end of the phase, each time a model in your unit makes a ranged attack, an unmodified Hit roll of 6 is required to score a hit, irrespective of the attacking weapon's Ballistic Skill or any modifiers. You can only use this Stratagem once per turn.  \n",
            "#### Go To Ground  \n",
            "CORE - BATTLE TACTIC STRATAGEM\n",
            "1CP\n",
            "----------------------------------------------------------------------------------------------------\n",
            "score: 3.275511601767367\n",
            "header: Stratagems\n",
            "text: 1CP\n",
            "Seeking salvation from incoming fire, warriors hurl themselves into whatever cover they can find.  \n",
            "WHEN: Your opponent's Shooting phase, just after an enemy unit has selected its targets. TARGET: One **Infantry** unit from your army that was selected as the target of one or more of the attacking unit's attacks.  \n",
            "EFFECT: Until the end of the phase, all models in your unit have a 6+ invulnerable save and have the Benefit of Cover (pg 44).  \n",
            "#### Smokescreen  \n",
            "CORE - WARGEAR STRATAGEM\n",
            "Even the most skilled marksmen struggle to hit targets veiled by billowing screens of smoke.  \n",
            "WHEN: Your opponent's Shooting phase, just after an enemy unit has selected its targets. TARGET: One **Smoke** unit from your army that was selected as the target of one or more of the attacking unit's attacks.  \n",
            "EFFECT: Until the end of the phase, all models in your unit have the Benefit of Cover (pg 44) and the Stealth ability (pg 20).  \n",
            "#### Heroic Intervention  \n",
            "CORE - STRATEGIC PLOY STRATAGEM\n",
            "2CP\n",
            "----------------------------------------------------------------------------------------------------\n",
            "score: 3.275511601767367\n",
            "header: Stratagems\n",
            "text: 1CP\n",
            "WHEN: Fight phase, when a **Character** unit from your army that is within Engagement Range of one or more Attached units is selected to fight.  \n",
            "TARGET: One **Character** model in your unit. EFFECT: Until the end of the phase, all melee attacks made by that model have the **[PRECISION]** ability (pg 26).  \n",
            "#### Insane Bravery  \n",
            "CORE - EPIC DEED STRATAGEM\n",
            "1CP\n",
            "Indifferent to their own survival, these warriors hold their ground against seemingly impossible odds.  \n",
            "WHEN: Battle-shock step of your Command phase, just after you have failed a Battle-shock test taken for a unit from your army (pg 11). TARGET: The unit from your army that Battle-shock test was just taken for (even though your Battle-shocked units cannot normally be affected by your Stratagems).  \n",
            "EFFECT: Your unit is treated as having passed that test instead, and is not Battle-shocked as a result.  \n",
            "1CP  \n",
            "#### Grenade  \n",
            "CORE - WARGEAR STRATAGEM\n",
            "----------------------------------------------------------------------------------------------------\n",
            "score: 3.275511601767367\n",
            "header: Stratagems\n",
            "text: 2CP\n",
            "Voices raised in furious war cries, your warriors surge forth to meet the enemy's onslaught head-on.  \n",
            "WHEN: Your opponent's Charge phase, just after an enemy unit ends a Charge move.  \n",
            "TARGET: One unit from your army that is within 6\" of that enemy unit and would be eligible to declare a charge against that enemy unit if it were your Charge phase. EFFECT: Your unit now declares a charge that targets only that enemy unit, and you resolve that charge as if it were your Charge phase. RESTRICTIONS: You can only select a **Vehicle** unit from your army if it is a **Walker**. Note that even if this charge is successful, your unit does not receive any Charge bonus this turn (pg 29).  \n",
            "1CP\n",
            "----------------------------------------------------------------------------------------------------\n"
          ]
        }
      ]
    },
    {
      "cell_type": "markdown",
      "source": [
        "## RAG with reranker"
      ],
      "metadata": {
        "id": "Ho5kRgfVZnn6"
      }
    },
    {
      "cell_type": "code",
      "source": [
        "history = [] # list[dict[str:str]]\n",
        "\n",
        "def full_rag_reranker_cpu(question, n_results=5):\n",
        "  retrieved_chunks = retrieve(question, n_results=100) # list[dict[str:str]]\n",
        "  reranked_chunks_with_scores = rerank_chunks(question, retrieved_chunks, n_results=5) # list[ tuple( dict[str:str],float ) ]\n",
        "  reranked_chunks = [tuple_chk_score[0] for tuple_chk_score in reranked_chunks_with_scores]\n",
        "  prompt = prompt_generation(question,reranked_chunks)\n",
        "  answer = llama_cpp_generate(prompt)\n",
        "  return answer"
      ],
      "metadata": {
        "id": "KLjtbwIAZnHb"
      },
      "execution_count": null,
      "outputs": []
    },
    {
      "cell_type": "code",
      "source": [
        "question = \"How can I win the game?\""
      ],
      "metadata": {
        "id": "Fj24vKheqKTa"
      },
      "execution_count": null,
      "outputs": []
    },
    {
      "cell_type": "markdown",
      "source": [
        "Testing with default 5 chunks as context"
      ],
      "metadata": {
        "id": "VP9J2QWcFNMl"
      }
    },
    {
      "cell_type": "code",
      "source": [
        "full_rag_cpu(question)"
      ],
      "metadata": {
        "id": "DD1RCnFEqKQR",
        "colab": {
          "base_uri": "https://localhost:8080/",
          "height": 53
        },
        "outputId": "446879d7-a45c-4b49-cc76-1aa00eceef46"
      },
      "execution_count": null,
      "outputs": [
        {
          "output_type": "execute_result",
          "data": {
            "text/plain": [
              "' The key to winning the game of Warhammer 40,000 is to score more Victory points than your opponent through various objectives such as recovering vital relics, capturing enemy strongholds, or eliminating the opposing Warlord. The game is broken into different phases during which players move, shoot, and fight with their miniatures.'"
            ],
            "application/vnd.google.colaboratory.intrinsic+json": {
              "type": "string"
            }
          },
          "metadata": {},
          "execution_count": 49
        }
      ]
    },
    {
      "cell_type": "code",
      "source": [
        "full_rag_reranker_cpu(question)"
      ],
      "metadata": {
        "id": "3no27yPqqKMG",
        "colab": {
          "base_uri": "https://localhost:8080/",
          "height": 89
        },
        "outputId": "5f3a9a24-bfc4-4f7f-f2e0-cecec01fbd24"
      },
      "execution_count": null,
      "outputs": [
        {
          "output_type": "execute_result",
          "data": {
            "text/plain": [
              "' You are the player of the game. To win the game, you need to defeat your opponent in a series of battle rounds. The game starts with the \"Introduction\" phase, where both players receive their armies and the mission for the battle round is revealed. You must then move, shoot, and fight with your units, with both players taking individual turns.\\n\\nTo determine who wins, each mission will specify a victory condition, and you need to achieve this condition to win the game. If you achieve the condition, you win the battle round. If you fail, the battle is a draw.\\n\\nTo resolve the battle, you can choose how to proceed, and if you succeed, you win the battle round. If you fail, you can choose how to proceed, and if you succeed, the battle continues.'"
            ],
            "application/vnd.google.colaboratory.intrinsic+json": {
              "type": "string"
            }
          },
          "metadata": {},
          "execution_count": 50
        }
      ]
    },
    {
      "cell_type": "markdown",
      "source": [
        "<hr>"
      ],
      "metadata": {
        "id": "YEaLNdkaFlNB"
      }
    },
    {
      "cell_type": "code",
      "source": [
        "def full_rag_reranker_gpu(question, n_results=5):\n",
        "  retrieved_chunks = retrieve(question, n_results=100) # list[dict[str:str]]\n",
        "  reranked_chunks_with_scores = rerank_chunks(question, retrieved_chunks, n_results=5) # list[ tuple( dict[str:str],float ) ]\n",
        "  reranked_chunks = [tuple_chk_score[0] for tuple_chk_score in reranked_chunks_with_scores]\n",
        "  prompt = prompt_generation(question,reranked_chunks)\n",
        "  answer = llm_complete(prompt)\n",
        "  return answer"
      ],
      "metadata": {
        "id": "Cptw-rsCHLlW"
      },
      "execution_count": null,
      "outputs": []
    },
    {
      "cell_type": "code",
      "source": [
        "full_rag_gpu(question)"
      ],
      "metadata": {
        "colab": {
          "base_uri": "https://localhost:8080/",
          "height": 71
        },
        "id": "kq6reBQ6HE9r",
        "outputId": "12255896-9c89-47ef-b36f-76a32753bffa"
      },
      "execution_count": null,
      "outputs": [
        {
          "output_type": "stream",
          "name": "stderr",
          "text": [
            "Setting `pad_token_id` to `eos_token_id`:None for open-end generation.\n"
          ]
        },
        {
          "output_type": "execute_result",
          "data": {
            "text/plain": [
              "' To win the game, you need to determine what the primary objective is. Each mission will tell you what you need to do to win the game. If neither player manages to achieve a victory then the game is considered to be a draw.'"
            ],
            "application/vnd.google.colaboratory.intrinsic+json": {
              "type": "string"
            }
          },
          "metadata": {},
          "execution_count": 83
        }
      ]
    },
    {
      "cell_type": "code",
      "source": [
        "full_rag_reranker_gpu(question)"
      ],
      "metadata": {
        "colab": {
          "base_uri": "https://localhost:8080/",
          "height": 125
        },
        "id": "Y9S1cS7uHHxV",
        "outputId": "0b81b106-819d-4774-f932-38a9fb7cdc81"
      },
      "execution_count": null,
      "outputs": [
        {
          "output_type": "stream",
          "name": "stderr",
          "text": [
            "Setting `pad_token_id` to `eos_token_id`:None for open-end generation.\n"
          ]
        },
        {
          "output_type": "execute_result",
          "data": {
            "text/plain": [
              "' You want to win the game of Warhammer 40,000. To do so, you need to score more Victory points than your opponent. The game is broken into battle rounds, and each battle round consists of two phases: Movement Phase and Shooting Phase. During the Shooting Phase, your units fire their ranged weapons at the enemy. During the Charge Phase, your units charge forward to battle at close quarters. Once both players have completed their turns, the battle round has been completed and the next one begins. You need to move, shoot, and fight with your miniatures to achieve victory.\\n\\nTo win the game, you need to achieve various objectives, such as recovering vital relics, capturing enemy strongholds, or eliminating the opposing Warlord. The game is played in a series of battle rounds, and you need to manage your resources strategically to outmaneuver your opponent.\\n\\nYou can use the mission to determine what you need to do to win the game. If you and your opponent are unable to achieve a victory, the game is a draw.'"
            ],
            "application/vnd.google.colaboratory.intrinsic+json": {
              "type": "string"
            }
          },
          "metadata": {},
          "execution_count": 85
        }
      ]
    },
    {
      "cell_type": "markdown",
      "source": [
        "The answer is better using full_rag_reranker: it is more detailed and relevant"
      ],
      "metadata": {
        "id": "dmc7176LHoBP"
      }
    },
    {
      "cell_type": "markdown",
      "source": [
        "# Chatting with the rulebook\n",
        "\n",
        "At this point, we created a single question/answer turn RAG. It can be usefull for some applications to allow conversations with documents."
      ],
      "metadata": {
        "id": "M7s4lRyefmD2"
      }
    },
    {
      "cell_type": "code",
      "source": [
        "history = [] # list[dict[str:str]], contains the chat history"
      ],
      "metadata": {
        "id": "RndrLFMEhe4x"
      },
      "execution_count": null,
      "outputs": []
    },
    {
      "cell_type": "code",
      "source": [
        "# do a loop inside\n",
        "chat_rag_template = Template(\n",
        "  \"\"\"\n",
        "  <|begin_of_text|>\n",
        "\n",
        "  <|start_header_id|>system<|end_header_id|>\n",
        "  {{role}}\n",
        "  <|eot_id|>\n",
        "\n",
        "  {% for chat in history %}\n",
        "  <|start_header_id|>user<|end_header_id|>\n",
        "  {{chat.h_question}}\n",
        "  <|eot_id|>\n",
        "\n",
        "  <|start_header_id|>assistant<|end_header_id|>\n",
        "  {{chat.h_answer}}\n",
        "  <|eot_id|>\n",
        "  {% endfor %}\n",
        "\n",
        "  <|start_header_id|>user<|end_header_id|>\n",
        "\n",
        "  Use the context and only the context to answer the following question:\n",
        "\n",
        "  Question:\n",
        "\n",
        "  {{question}}\n",
        "\n",
        "  Context:\n",
        "  {% for chunk in chunks %}\n",
        "  {% for key, value in chunk.header.items() %}{{ key }}: {{ value  }} {% endfor %}\n",
        "  text: {{chunk.text}}\n",
        "  {% endfor %}\n",
        "  <|eot_id|>\n",
        "\n",
        "  <|start_header_id|>assistant<|end_header_id|>\n",
        "  \"\"\"\n",
        ")"
      ],
      "metadata": {
        "id": "xqnPPl4ofDaS"
      },
      "execution_count": null,
      "outputs": []
    },
    {
      "cell_type": "code",
      "source": [
        "def chat_prompt_generation(question, chunks, history):\n",
        "    return chat_rag_template.render(**{\n",
        "    'role': 'you are an experienced wargame player',\n",
        "    'question': question, # str\n",
        "    'chunks': chunks, # list[dict[str:str]]\n",
        "    'history': history # list[dict[str:str]]\n",
        "    })"
      ],
      "metadata": {
        "id": "PjW_6CWhe4Br"
      },
      "execution_count": null,
      "outputs": []
    },
    {
      "cell_type": "code",
      "source": [
        "def chat_with_rag_gpu(question, n_results=5, clear_history=False):\n",
        "  if clear_history: history.clear()\n",
        "\n",
        "  retrieved_chunks = retrieve(question, n_results=100) # list[dict[str:str]]\n",
        "  reranked_chunks_with_scores = rerank_chunks(question, retrieved_chunks, n_results=5) # list[ tuple( dict[str:str],float ) ]\n",
        "  reranked_chunks = [tuple_chk_score[0] for tuple_chk_score in reranked_chunks_with_scores]\n",
        "  prompt = chat_prompt_generation(question, reranked_chunks, history)\n",
        "  answer = llm_complete(prompt)\n",
        "\n",
        "  # Only add question and answer to limit going over token limit in prompt\n",
        "  current_chat = {\"h_question\":question, \"h_answer\":answer}\n",
        "  history.append(current_chat)\n",
        "\n",
        "  return answer"
      ],
      "metadata": {
        "id": "f5kEMFWfOINI"
      },
      "execution_count": null,
      "outputs": []
    },
    {
      "cell_type": "code",
      "source": [
        "chat_with_rag_gpu(question, clear_history=True)"
      ],
      "metadata": {
        "colab": {
          "base_uri": "https://localhost:8080/",
          "height": 142
        },
        "id": "cBFo-lu8JX-v",
        "outputId": "5e798372-479f-42b2-84c0-dcd68ba5d412"
      },
      "execution_count": null,
      "outputs": [
        {
          "output_type": "stream",
          "name": "stderr",
          "text": [
            "Setting `pad_token_id` to `eos_token_id`:None for open-end generation.\n"
          ]
        },
        {
          "output_type": "execute_result",
          "data": {
            "text/plain": [
              "\" You want to win the game of Warhammer 40,000. Here are the steps to do so:\\n\\n1.  **Manage your resources**: Both players must muster strategic resources, which includes unit points, ammunition, and any other necessary supplies. You'll need to test your units in the **Movement Phase** to move them across the battlefield and **Shoot** to fire your ranged weapons. You'll also need to **Charge** to engage in close combat.\\n2.  **Engage in close combat**: Once your turn has ended, both players' units will pile in and attack with melee weapons. You'll need to resolve this phase by determining the outcome of the combat.\\n3.  **Resolve the combat**: The outcome of the combat will depend on the specific rules of the game and the units involved. You can use the **Shoot** phase to fire your ranged weapons, the **Movement Phase** to move your units, and the **Charge Phase** to engage in close combat.\\n4.  **Repeat the process**: Both players will take their turns, and the battle will continue until one player achieves a victory condition or the mission ends.\\n\\nBy following these steps, you can increase your chances of winning the game of Warhammer 40,000.\""
            ],
            "application/vnd.google.colaboratory.intrinsic+json": {
              "type": "string"
            }
          },
          "metadata": {},
          "execution_count": 120
        }
      ]
    },
    {
      "cell_type": "code",
      "source": [
        "chat_with_rag_gpu(\"What are the victory conditions ?\")"
      ],
      "metadata": {
        "colab": {
          "base_uri": "https://localhost:8080/",
          "height": 71
        },
        "id": "SHBBzHuAN5c4",
        "outputId": "60c02566-f66c-4790-f18c-645f8e3de77a"
      },
      "execution_count": null,
      "outputs": [
        {
          "output_type": "stream",
          "name": "stderr",
          "text": [
            "Setting `pad_token_id` to `eos_token_id`:None for open-end generation.\n"
          ]
        },
        {
          "output_type": "execute_result",
          "data": {
            "text/plain": [
              "' The victory conditions in Warhammer 40,000 are:\\n\\n1.  **Destroy the enemy army**: One player must have all their units destroyed.\\n2.  **Capture and Control**: The player must control a certain number of objective markers, with the goal of scoring a specific number of Victory Points (VP).'"
            ],
            "application/vnd.google.colaboratory.intrinsic+json": {
              "type": "string"
            }
          },
          "metadata": {},
          "execution_count": 122
        }
      ]
    },
    {
      "cell_type": "code",
      "source": [
        "chat_with_rag_gpu(\"What objective markers are there ?\")"
      ],
      "metadata": {
        "colab": {
          "base_uri": "https://localhost:8080/",
          "height": 71
        },
        "id": "d_4JBtf_mEFR",
        "outputId": "0bae0613-036a-422f-c96c-e63bf8b5ba7f"
      },
      "execution_count": null,
      "outputs": [
        {
          "output_type": "stream",
          "name": "stderr",
          "text": [
            "Setting `pad_token_id` to `eos_token_id`:None for open-end generation.\n"
          ]
        },
        {
          "output_type": "execute_result",
          "data": {
            "text/plain": [
              "' Objective markers are the locations of the battlefield where the players are trying to secure valuable resources and strategic points. They are represented on the mission map and are marked with a special icon. To control an objective marker, a player must move their models within range of it.'"
            ],
            "application/vnd.google.colaboratory.intrinsic+json": {
              "type": "string"
            }
          },
          "metadata": {},
          "execution_count": 124
        }
      ]
    }
  ]
}